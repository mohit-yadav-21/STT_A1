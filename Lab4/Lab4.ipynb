{
 "cells": [
  {
   "cell_type": "code",
   "execution_count": 16,
   "metadata": {
    "execution": {
     "iopub.execute_input": "2025-09-03T10:04:57.290946Z",
     "iopub.status.busy": "2025-09-03T10:04:57.290556Z",
     "iopub.status.idle": "2025-09-03T10:05:01.287066Z",
     "shell.execute_reply": "2025-09-03T10:05:01.285342Z",
     "shell.execute_reply.started": "2025-09-03T10:04:57.290919Z"
    },
    "trusted": true
   },
   "outputs": [
    {
     "name": "stdout",
     "output_type": "stream",
     "text": [
      "Requirement already satisfied: pydriller in /usr/local/lib/python3.11/dist-packages (2.8)\n",
      "Requirement already satisfied: gitpython in /usr/local/lib/python3.11/dist-packages (from pydriller) (3.1.44)\n",
      "Requirement already satisfied: pytz in /usr/local/lib/python3.11/dist-packages (from pydriller) (2025.2)\n",
      "Requirement already satisfied: types-pytz in /usr/local/lib/python3.11/dist-packages (from pydriller) (2025.2.0.20250516)\n",
      "Requirement already satisfied: lizard==1.17.10 in /usr/local/lib/python3.11/dist-packages (from pydriller) (1.17.10)\n",
      "Requirement already satisfied: gitdb<5,>=4.0.1 in /usr/local/lib/python3.11/dist-packages (from gitpython->pydriller) (4.0.12)\n",
      "Requirement already satisfied: smmap<6,>=3.0.1 in /usr/local/lib/python3.11/dist-packages (from gitdb<5,>=4.0.1->gitpython->pydriller) (5.0.2)\n"
     ]
    }
   ],
   "source": [
    "!pip install pydriller"
   ]
  },
  {
   "cell_type": "code",
   "execution_count": null,
   "metadata": {
    "_cell_guid": "b1076dfc-b9ad-4769-8c92-a6c4dae69d19",
    "_uuid": "8f2839f25d086af736a60e9eeb907d3b93b6e0e5",
    "execution": {
     "iopub.execute_input": "2025-09-03T11:04:45.842638Z",
     "iopub.status.busy": "2025-09-03T11:04:45.841772Z",
     "iopub.status.idle": "2025-09-03T11:04:45.847013Z",
     "shell.execute_reply": "2025-09-03T11:04:45.846288Z",
     "shell.execute_reply.started": "2025-09-03T11:04:45.842608Z"
    },
    "trusted": true
   },
   "outputs": [],
   "source": [
    "from pydriller import Repository  # for repository mining and commit analysis\n",
    "from git import Repo # for direct Git operations and diff generation\n",
    "import pandas as pd # for data manipulation and analysis\n",
    "import matplotlib.pyplot as plt # for data visualization"
   ]
  },
  {
   "cell_type": "code",
   "execution_count": null,
   "metadata": {
    "execution": {
     "iopub.execute_input": "2025-09-03T10:11:28.956693Z",
     "iopub.status.busy": "2025-09-03T10:11:28.955997Z",
     "iopub.status.idle": "2025-09-03T10:11:35.450739Z",
     "shell.execute_reply": "2025-09-03T10:11:35.450050Z",
     "shell.execute_reply.started": "2025-09-03T10:11:28.956669Z"
    },
    "trusted": true
   },
   "outputs": [
    {
     "name": "stdout",
     "output_type": "stream",
     "text": [
      "Cloning poetry\n"
     ]
    },
    {
     "name": "stderr",
     "output_type": "stream",
     "text": [
      "Cloning into '/kaggle/working/poetry'...\n"
     ]
    },
    {
     "name": "stdout",
     "output_type": "stream",
     "text": [
      "Cloning reflex\n"
     ]
    },
    {
     "name": "stderr",
     "output_type": "stream",
     "text": [
      "Cloning into '/kaggle/working/reflex'...\n"
     ]
    },
    {
     "name": "stdout",
     "output_type": "stream",
     "text": [
      "Cloning fastmcp\n"
     ]
    },
    {
     "name": "stderr",
     "output_type": "stream",
     "text": [
      "Cloning into '/kaggle/working/fastmcp'...\n"
     ]
    }
   ],
   "source": [
    "# Clone selected repositories and configure Git safe directories for analysis\n",
    "import os, subprocess # for OS operations and running shell commands\n",
    "\n",
    "repos_to_check = [\n",
    "    \"https://github.com/python-poetry/poetry.git\",\n",
    "    \"https://github.com/reflex-dev/reflex.git\",\n",
    "    \"https://github.com/jlowin/fastmcp.git\"\n",
    "]\n",
    "\n",
    "work_dir = \"/kaggle/working\"\n",
    "cloned_paths = {}\n",
    "\n",
    "for link in repos_to_check:\n",
    "    repo_title = link.split(\"/\")[-1].replace(\".git\", \"\")\n",
    "    dest = f\"{work_dir}/{repo_title}\"\n",
    "    if not os.path.exists(dest):\n",
    "        print(\"Cloning\", repo_title)\n",
    "        subprocess.run([\"git\", \"clone\", link, dest], check=False)\n",
    "    subprocess.run([\"git\", \"config\", \"--global\", \"--add\", \"safe.directory\", dest], check=False)\n",
    "    cloned_paths[repo_title] = dest\n"
   ]
  },
  {
   "cell_type": "code",
   "execution_count": null,
   "metadata": {
    "execution": {
     "iopub.execute_input": "2025-09-03T10:14:44.644436Z",
     "iopub.status.busy": "2025-09-03T10:14:44.643529Z",
     "iopub.status.idle": "2025-09-03T10:14:44.650444Z",
     "shell.execute_reply": "2025-09-03T10:14:44.649370Z",
     "shell.execute_reply.started": "2025-09-03T10:14:44.644409Z"
    },
    "trusted": true
   },
   "outputs": [],
   "source": [
    "# Generate diff output using specified algorithm with whitespace and blank line ignoring\n",
    "def diff_output(path_repo, commit_sha, algo=\"default\"):\n",
    "    r = Repo(path_repo)\n",
    "    commit = r.commit(commit_sha)\n",
    "    results = {}\n",
    "    for parent in commit.parents:\n",
    "        cmd = [\n",
    "            \"git\", \"-C\", path_repo, \"diff\",\n",
    "            \"--ignore-all-space\", \"--ignore-blank-lines\",\n",
    "            f\"--diff-algorithm={algo}\",\n",
    "            parent.hexsha, commit.hexsha\n",
    "        ]\n",
    "        diff_text = subprocess.run(cmd, capture_output=True, text=True, encoding=\"utf-8\", errors=\"replace\").stdout\n",
    "        results[parent.hexsha] = diff_text\n",
    "    return results\n"
   ]
  },
  {
   "cell_type": "code",
   "execution_count": null,
   "metadata": {
    "execution": {
     "iopub.execute_input": "2025-09-03T10:13:04.584916Z",
     "iopub.status.busy": "2025-09-03T10:13:04.584569Z",
     "iopub.status.idle": "2025-09-03T10:13:04.589563Z",
     "shell.execute_reply": "2025-09-03T10:13:04.588490Z",
     "shell.execute_reply.started": "2025-09-03T10:13:04.584891Z"
    },
    "trusted": true
   },
   "outputs": [],
   "source": [
    "import csv # for writing results to CSV file"
   ]
  },
  {
   "cell_type": "code",
   "execution_count": null,
   "metadata": {
    "execution": {
     "iopub.execute_input": "2025-09-03T10:14:59.293748Z",
     "iopub.status.busy": "2025-09-03T10:14:59.293450Z",
     "iopub.status.idle": "2025-09-03T10:14:59.301560Z",
     "shell.execute_reply": "2025-09-03T10:14:59.300415Z",
     "shell.execute_reply.started": "2025-09-03T10:14:59.293726Z"
    },
    "trusted": true
   },
   "outputs": [],
   "source": [
    "# Analyze repository commits, generate diffs with both algorithms, and write results to CSV\n",
    "def explore_repo(repo_loc, repo_tag, csv_path):\n",
    "    with open(csv_path, \"a\", newline=\"\", encoding=\"utf-8\") as file:\n",
    "        w = csv.writer(file)\n",
    "        for c in Repository(repo_loc).traverse_commits():\n",
    "            d_myers = diff_output(repo_loc, c.hash, \"myers\")\n",
    "            d_hist = diff_output(repo_loc, c.hash, \"histogram\")\n",
    "\n",
    "            for f in c.modified_files:\n",
    "                fname = (f.filename or \"\").lower()\n",
    "                if fname.endswith((\".py\", \".java\", \".c\", \".cpp\")) \\\n",
    "                    or \"test\" in (f.new_path or \"\").lower() \\\n",
    "                    or fname in [\"readme.md\", \"license\", \"license.txt\"]:\n",
    "\n",
    "                    for parent_hash in c.parents:   \n",
    "                        s1, s2 = d_myers.get(parent_hash, \"\"), d_hist.get(parent_hash, \"\")\n",
    "                        flag = \"Yes\" if s1 != s2 else \"No\"\n",
    "                        w.writerow([repo_tag, f.old_path, f.new_path, c.hash, parent_hash, c.msg.strip(), s1, s2, flag])\n"
   ]
  },
  {
   "cell_type": "code",
   "execution_count": null,
   "metadata": {
    "execution": {
     "iopub.execute_input": "2025-09-03T10:15:03.056773Z",
     "iopub.status.busy": "2025-09-03T10:15:03.056476Z",
     "iopub.status.idle": "2025-09-03T10:24:08.921110Z",
     "shell.execute_reply": "2025-09-03T10:24:08.920209Z",
     "shell.execute_reply.started": "2025-09-03T10:15:03.056751Z"
    },
    "trusted": true
   },
   "outputs": [
    {
     "name": "stdout",
     "output_type": "stream",
     "text": [
      "Analyzing poetry\n",
      "Analyzing reflex\n",
      "Analyzing fastmcp\n",
      "Final dataset written to /kaggle/working/diff_results.csv\n"
     ]
    }
   ],
   "source": [
    "# # Initialize CSV file and process all repositories to generate the final dataset\n",
    "output_csv = f\"{work_dir}/diff_results.csv\"\n",
    "\n",
    "with open(output_csv, \"w\", newline=\"\", encoding=\"utf-8\") as f:\n",
    "    wr = csv.writer(f)\n",
    "    wr.writerow([\n",
    "        \"repo\", \"old_path\", \"new_path\", \"commit_sha\", \"parent_sha\",\n",
    "        \"commit_message\", \"myers_diff\", \"hist_diff\", \"discrepancy\"\n",
    "    ])\n",
    "\n",
    "for repo_name, path in cloned_paths.items():\n",
    "    print(\"Analyzing\", repo_name)\n",
    "    explore_repo(path, repo_name, output_csv)\n",
    "\n",
    "print(\"Final dataset written to\", output_csv)"
   ]
  },
  {
   "cell_type": "code",
   "execution_count": null,
   "metadata": {
    "execution": {
     "iopub.execute_input": "2025-09-03T10:51:49.836262Z",
     "iopub.status.busy": "2025-09-03T10:51:49.835947Z",
     "iopub.status.idle": "2025-09-03T10:53:27.643566Z",
     "shell.execute_reply": "2025-09-03T10:53:27.642658Z",
     "shell.execute_reply.started": "2025-09-03T10:51:49.836242Z"
    },
    "trusted": true
   },
   "outputs": [],
   "source": [
    "# Load the generated dataset and set up color theme for visualizations\n",
    "CSV_PATH = \"/kaggle/working/diff_results.csv\"  \n",
    "df = pd.read_csv(CSV_PATH)\n",
    "\n",
    "# theme\n",
    "C_ORANGE = \"#e67e22\"\n",
    "C_GREEN  = \"#2ecc71\"\n",
    "C_BROWN  = \"#d2b48c\""
   ]
  },
  {
   "cell_type": "code",
   "execution_count": null,
   "metadata": {},
   "outputs": [],
   "source": [
    "# Adding category classification\n",
    "def classify_file_type(file_path):\n",
    "    if not file_path:\n",
    "        return \"Other\"\n",
    "    \n",
    "    file_path_lower = file_path.lower()\n",
    "    filename = file_path_lower.split('/')[-1]\n",
    "    \n",
    "    if filename.endswith(('.py', '.java', '.c', '.cpp', '.js', '.ts', '.go', '.rs')):\n",
    "        return \"Source\"\n",
    "    \n",
    "    if 'test' in file_path_lower or filename.startswith('test_') or filename.endswith('_test.py'):\n",
    "        return \"Test\"\n",
    "    \n",
    "    if filename in ['readme.md', 'readme.txt', 'readme.rst'] or filename.startswith('readme'):\n",
    "        return \"README\"\n",
    "    \n",
    "    if filename in ['license', 'license.txt', 'license.md'] or filename.startswith('license'):\n",
    "        return \"LICENSE\"\n",
    "    \n",
    "    return \"Other\"\n",
    "\n",
    "df['category'] = df['new_path'].apply(classify_file_type)"
   ]
  },
  {
   "cell_type": "code",
   "execution_count": null,
   "metadata": {
    "execution": {
     "iopub.execute_input": "2025-09-03T11:05:35.874858Z",
     "iopub.status.busy": "2025-09-03T11:05:35.874529Z",
     "iopub.status.idle": "2025-09-03T11:05:35.879664Z",
     "shell.execute_reply": "2025-09-03T11:05:35.878820Z",
     "shell.execute_reply.started": "2025-09-03T11:05:35.874835Z"
    },
    "trusted": true
   },
   "outputs": [],
   "source": [
    "import numpy as np # for numerical operations and handling infinity/NaN values"
   ]
  },
  {
   "cell_type": "code",
   "execution_count": null,
   "metadata": {
    "execution": {
     "iopub.execute_input": "2025-09-03T11:08:00.151842Z",
     "iopub.status.busy": "2025-09-03T11:08:00.150743Z",
     "iopub.status.idle": "2025-09-03T11:08:00.182689Z",
     "shell.execute_reply": "2025-09-03T11:08:00.181743Z",
     "shell.execute_reply.started": "2025-09-03T11:08:00.151781Z"
    },
    "trusted": true
   },
   "outputs": [
    {
     "name": "stdout",
     "output_type": "stream",
     "text": [
      "=== Overall mismatch summary by file category ===\n",
      "\n",
      "          total_files  mismatches mismatch_percent\n",
      "category                                          \n",
      "LICENSE             8           3            37.5%\n",
      "Test             2038         593            29.1%\n",
      "Source          24265        6838            28.2%\n",
      "README            495          97            19.6%\n"
     ]
    }
   ],
   "source": [
    "# Calculate and display overall mismatch statistics by file category\n",
    "is_mismatch = df[\"discrepancy\"].astype(str).str.upper() == \"YES\"\n",
    "\n",
    "\n",
    "totals = df.groupby(\"category\").size().rename(\"total_files\")\n",
    "mismatches = df[is_mismatch].groupby(\"category\").size().rename(\"mismatches\")\n",
    "summary = pd.concat([totals, mismatches], axis=1).fillna(0).astype(int)\n",
    "\n",
    "summary[\"mismatch_ratio\"] = (\n",
    "    summary[\"mismatches\"] / summary[\"total_files\"]\n",
    ").replace([np.inf, np.nan], 0).fillna(0)\n",
    "\n",
    "summary = summary.sort_values(\"mismatch_ratio\", ascending=False)\n",
    "\n",
    "# print nice table\n",
    "summary_print = summary.copy()\n",
    "summary_print[\"mismatch_percent\"] = (summary_print[\"mismatch_ratio\"] * 100).map(\"{:.1f}%\".format)\n",
    "print(\"=== Overall mismatch summary by file category ===\\n\")\n",
    "print(summary_print[[\"total_files\", \"mismatches\", \"mismatch_percent\"]].to_string())"
   ]
  },
  {
   "cell_type": "code",
   "execution_count": null,
   "metadata": {
    "execution": {
     "iopub.execute_input": "2025-09-03T11:08:13.588652Z",
     "iopub.status.busy": "2025-09-03T11:08:13.588371Z",
     "iopub.status.idle": "2025-09-03T11:08:13.624893Z",
     "shell.execute_reply": "2025-09-03T11:08:13.623852Z",
     "shell.execute_reply.started": "2025-09-03T11:08:13.588634Z"
    },
    "trusted": true
   },
   "outputs": [
    {
     "name": "stdout",
     "output_type": "stream",
     "text": [
      "\n",
      "=== Per-repo totals (by category) ===\n",
      "\n",
      "category  LICENSE  README  Source  Test\n",
      "repo                                   \n",
      "fastmcp         3     108    3405    70\n",
      "poetry          2      93   10502  1820\n",
      "reflex          3     294   10358   148\n",
      "\n",
      "=== Per-repo mismatches (by category) ===\n",
      "\n",
      "category  LICENSE  README  Source  Test\n",
      "repo                                   \n",
      "fastmcp         2      29    1119    13\n",
      "poetry          0      12    3061   553\n",
      "reflex          1      56    2658    27\n",
      "\n",
      "=== Per-repo mismatch ratio (by category) ===\n",
      "\n",
      "category LICENSE README Source   Test\n",
      "repo                                 \n",
      "fastmcp    66.7%  26.9%  32.9%  18.6%\n",
      "poetry      0.0%  12.9%  29.1%  30.4%\n",
      "reflex     33.3%  19.0%  25.7%  18.2%\n"
     ]
    },
    {
     "name": "stderr",
     "output_type": "stream",
     "text": [
      "/tmp/ipykernel_36/2287126725.py:19: FutureWarning: DataFrame.applymap has been deprecated. Use DataFrame.map instead.\n",
      "  print(ratio_pivot.applymap(lambda x: f\"{x:.1%}\").to_string())\n"
     ]
    }
   ],
   "source": [
    "# Calculate and display per-repository mismatch statistics by file category\n",
    "repo_totals = df.groupby([\"repo\", \"category\"]).size().rename(\"total\").reset_index()\n",
    "repo_mis    = df[is_mismatch].groupby([\"repo\", \"category\"]).size().rename(\"mismatch\").reset_index()\n",
    "repo_stats  = pd.merge(repo_totals, repo_mis, on=[\"repo\",\"category\"], how=\"left\").fillna(0)\n",
    "repo_stats[\"mismatch_ratio\"] = (\n",
    "    repo_stats[\"mismatch\"] / repo_stats[\"total\"]\n",
    ").replace([np.inf, np.nan], 0).fillna(0)\n",
    "\n",
    "# pivot into tables\n",
    "totals_pivot = repo_stats.pivot(index=\"repo\", columns=\"category\", values=\"total\").fillna(0).astype(int)\n",
    "mis_pivot    = repo_stats.pivot(index=\"repo\", columns=\"category\", values=\"mismatch\").fillna(0).astype(int)\n",
    "ratio_pivot  = repo_stats.pivot(index=\"repo\", columns=\"category\", values=\"mismatch_ratio\").fillna(0)\n",
    "\n",
    "print(\"\\n=== Per-repo totals (by category) ===\\n\")\n",
    "print(totals_pivot.to_string())\n",
    "print(\"\\n=== Per-repo mismatches (by category) ===\\n\")\n",
    "print(mis_pivot.to_string())\n",
    "print(\"\\n=== Per-repo mismatch ratio (by category) ===\\n\")\n",
    "print(ratio_pivot.applymap(lambda x: f\"{x:.1%}\").to_string())\n"
   ]
  },
  {
   "cell_type": "code",
   "execution_count": null,
   "metadata": {
    "execution": {
     "iopub.execute_input": "2025-09-03T11:09:16.050985Z",
     "iopub.status.busy": "2025-09-03T11:09:16.050625Z",
     "iopub.status.idle": "2025-09-03T11:09:16.234149Z",
     "shell.execute_reply": "2025-09-03T11:09:16.233309Z",
     "shell.execute_reply.started": "2025-09-03T11:09:16.050963Z"
    },
    "trusted": true
   },
   "outputs": [
    {
     "data": {
      "image/png": "[encoded data removed]",
      "text/plain": [
       "<Figure size 800x400 with 1 Axes>"
      ]
     },
     "metadata": {},
     "output_type": "display_data"
    }
   ],
   "source": [
    "# Create horizontal bar chart showing overall mismatch ratios by file category\n",
    "cats = summary.index.tolist()\n",
    "vals = summary[\"mismatch_ratio\"].values\n",
    "\n",
    "theme_cols = [C_ORANGE, C_GREEN, C_BROWN]\n",
    "bar_colors = [theme_cols[i % len(theme_cols)] for i in range(len(cats))]\n",
    "\n",
    "fig, ax = plt.subplots(figsize=(8, 4))\n",
    "ax.barh(cats, vals, color=bar_colors, edgecolor=\"black\", height=0.6)\n",
    "ax.set_xlabel(\"Mismatch ratio\")\n",
    "ax.set_title(\"Overall mismatch ratio by file category\")\n",
    "ax.set_xlim(0, max(vals.max() * 1.2, 0.05))\n",
    "\n",
    "for i, v in enumerate(vals):\n",
    "    ax.text(v + 0.005, i, f\"{v:.1%}\", va=\"center\", fontsize=9)\n",
    "\n",
    "plt.tight_layout()\n",
    "plt.show()\n"
   ]
  },
  {
   "cell_type": "code",
   "execution_count": null,
   "metadata": {
    "execution": {
     "iopub.execute_input": "2025-09-03T11:09:34.321991Z",
     "iopub.status.busy": "2025-09-03T11:09:34.321615Z",
     "iopub.status.idle": "2025-09-03T11:09:34.568458Z",
     "shell.execute_reply": "2025-09-03T11:09:34.567493Z",
     "shell.execute_reply.started": "2025-09-03T11:09:34.321965Z"
    },
    "trusted": true
   },
   "outputs": [
    {
     "data": {
      "image/png": "[encoded data removed]",
      "text/plain": [
       "<Figure size 1000x600 with 1 Axes>"
      ]
     },
     "metadata": {},
     "output_type": "display_data"
    }
   ],
   "source": [
    "# Create grouped bar chart showing per-repository mismatch ratios by category\n",
    "repos = sorted(df[\"repo\"].unique())\n",
    "categories = sorted(df[\"category\"].unique())\n",
    "\n",
    "fig, ax = plt.subplots(figsize=(10, 6))\n",
    "for i, cat in enumerate(categories):\n",
    "    vals = ratio_pivot[cat].reindex(repos).fillna(0).values\n",
    "    ax.bar(\n",
    "        [x + i*0.15 for x in range(len(repos))], vals, width=0.15,\n",
    "        label=cat, edgecolor=\"black\",\n",
    "        color=theme_cols[i % len(theme_cols)]\n",
    "    )\n",
    "\n",
    "ax.set_xticks([x + 0.15*(len(categories)-1)/2 for x in range(len(repos))])\n",
    "ax.set_xticklabels(repos, rotation=30, ha=\"right\")\n",
    "ax.set_ylabel(\"Mismatch ratio\")\n",
    "ax.set_title(\"Per-repo mismatch ratios by category\")\n",
    "ax.legend(title=\"File Category\")\n",
    "plt.tight_layout()\n",
    "plt.show()\n"
   ]
  },
  {
   "cell_type": "code",
   "execution_count": null,
   "metadata": {
    "execution": {
     "iopub.execute_input": "2025-09-03T11:09:53.139902Z",
     "iopub.status.busy": "2025-09-03T11:09:53.139600Z",
     "iopub.status.idle": "2025-09-03T11:09:53.154789Z",
     "shell.execute_reply": "2025-09-03T11:09:53.153865Z",
     "shell.execute_reply.started": "2025-09-03T11:09:53.139882Z"
    },
    "trusted": true
   },
   "outputs": [
    {
     "name": "stdout",
     "output_type": "stream",
     "text": [
      "\n",
      "=== Quick summary ===\n",
      "\n",
      "Highest mismatch ratio overall is in category: LICENSE (37.5%)\n",
      "\n",
      "Repositories ranked by overall mismatch ratio:\n",
      "repo\n",
      "fastmcp    32.4%\n",
      "poetry     29.2%\n",
      "reflex     25.4%\n"
     ]
    },
    {
     "name": "stderr",
     "output_type": "stream",
     "text": [
      "/tmp/ipykernel_36/3524130313.py:6: DeprecationWarning: DataFrameGroupBy.apply operated on the grouping columns. This behavior is deprecated, and in a future version of pandas the grouping columns will be excluded from the operation. Either pass `include_groups=False` to exclude the groupings or explicitly select the grouping columns after groupby to silence this warning.\n",
      "  repo_overall = repo_stats.groupby(\"repo\").apply(\n"
     ]
    }
   ],
   "source": [
    "# quick summary of highest mismatch category and repository rankings\n",
    "overall_sorted = summary.sort_values(\"mismatch_ratio\", ascending=False)\n",
    "top_category = overall_sorted.index[0] if not overall_sorted.empty else None\n",
    "top_ratio = overall_sorted[\"mismatch_ratio\"].iloc[0] if not overall_sorted.empty else None\n",
    "\n",
    "repo_overall = repo_stats.groupby(\"repo\").apply(\n",
    "    lambda g: g[\"mismatch\"].sum() / g[\"total\"].sum() if g[\"total\"].sum() > 0 else 0\n",
    ").sort_values(ascending=False)\n",
    "\n",
    "print(\"\\n=== Quick summary ===\\n\")\n",
    "if top_category:\n",
    "    print(f\"Highest mismatch ratio overall is in category: {top_category} ({top_ratio:.1%})\")\n",
    "else:\n",
    "    print(\"No category data available.\")\n",
    "\n",
    "print(\"\\nRepositories ranked by overall mismatch ratio:\")\n",
    "print(repo_overall.map(lambda x: f\"{x:.1%}\").to_string())\n"
   ]
  }
 ],
 "metadata": {
  "kaggle": {
   "accelerator": "none",
   "dataSources": [],
   "dockerImageVersionId": 31089,
   "isGpuEnabled": false,
   "isInternetEnabled": true,
   "language": "python",
   "sourceType": "notebook"
  },
  "kernelspec": {
   "display_name": "Python 3",
   "language": "python",
   "name": "python3"
  },
  "language_info": {
   "codemirror_mode": {
    "name": "ipython",
    "version": 3
   },
   "file_extension": ".py",
   "mimetype": "text/x-python",
   "name": "python",
   "nbconvert_exporter": "python",
   "pygments_lexer": "ipython3",
   "version": "3.11.13"
  }
 },
 "nbformat": 4,
 "nbformat_minor": 4
}
