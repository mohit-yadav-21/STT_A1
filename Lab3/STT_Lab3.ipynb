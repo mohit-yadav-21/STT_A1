{
 "cells": [
  {
   "cell_type": "code",
   "execution_count": 1,
   "metadata": {
    "execution": {
     "iopub.execute_input": "2025-09-04T15:54:02.449299Z",
     "iopub.status.busy": "2025-09-04T15:54:02.449070Z",
     "iopub.status.idle": "2025-09-04T15:54:03.940228Z",
     "shell.execute_reply": "2025-09-04T15:54:03.939452Z",
     "shell.execute_reply.started": "2025-09-04T15:54:02.449280Z"
    },
    "trusted": true
   },
   "outputs": [],
   "source": [
    "# Import core libraries for data handling\n",
    "import pandas as pd\n",
    "import numpy as np\n"
   ]
  },
  {
   "cell_type": "code",
   "execution_count": 2,
   "metadata": {
    "execution": {
     "iopub.execute_input": "2025-09-04T15:54:03.942071Z",
     "iopub.status.busy": "2025-09-04T15:54:03.941631Z",
     "iopub.status.idle": "2025-09-04T15:54:08.686258Z",
     "shell.execute_reply": "2025-09-04T15:54:08.685428Z",
     "shell.execute_reply.started": "2025-09-04T15:54:03.942043Z"
    },
    "trusted": true
   },
   "outputs": [
    {
     "name": "stdout",
     "output_type": "stream",
     "text": [
      "Collecting radon\n",
      "  Downloading radon-6.0.1-py2.py3-none-any.whl.metadata (8.2 kB)\n",
      "Collecting mando<0.8,>=0.6 (from radon)\n",
      "  Downloading mando-0.7.1-py2.py3-none-any.whl.metadata (7.4 kB)\n",
      "Requirement already satisfied: colorama>=0.4.1 in /usr/local/lib/python3.11/dist-packages (from radon) (0.4.6)\n",
      "Requirement already satisfied: six in /usr/local/lib/python3.11/dist-packages (from mando<0.8,>=0.6->radon) (1.17.0)\n",
      "Downloading radon-6.0.1-py2.py3-none-any.whl (52 kB)\n",
      "\u001b[2K   \u001b[90m━━━━━━━━━━━━━━━━━━━━━━━━━━━━━━━━━━━━━━━━\u001b[0m \u001b[32m52.8/52.8 kB\u001b[0m \u001b[31m2.2 MB/s\u001b[0m eta \u001b[36m0:00:00\u001b[0m\n",
      "\u001b[?25hDownloading mando-0.7.1-py2.py3-none-any.whl (28 kB)\n",
      "Installing collected packages: mando, radon\n",
      "Successfully installed mando-0.7.1 radon-6.0.1\n"
     ]
    }
   ],
   "source": [
    "!pip install radon"
   ]
  },
  {
   "cell_type": "code",
   "execution_count": 3,
   "metadata": {
    "execution": {
     "iopub.execute_input": "2025-09-04T15:54:08.687569Z",
     "iopub.status.busy": "2025-09-04T15:54:08.687268Z",
     "iopub.status.idle": "2025-09-04T15:54:08.699035Z",
     "shell.execute_reply": "2025-09-04T15:54:08.698322Z",
     "shell.execute_reply.started": "2025-09-04T15:54:08.687530Z"
    },
    "trusted": true
   },
   "outputs": [],
   "source": [
    "# Import radon for code metrics (maintainability, complexity, lines of code)\n",
    "from radon.raw import analyze as raw_metrics\n",
    "from radon.complexity import cc_visit\n",
    "from radon.metrics import mi_visit"
   ]
  },
  {
   "cell_type": "code",
   "execution_count": 4,
   "metadata": {
    "execution": {
     "iopub.execute_input": "2025-09-04T15:54:08.699897Z",
     "iopub.status.busy": "2025-09-04T15:54:08.699618Z",
     "iopub.status.idle": "2025-09-04T15:54:17.391838Z",
     "shell.execute_reply": "2025-09-04T15:54:17.390977Z",
     "shell.execute_reply.started": "2025-09-04T15:54:08.699878Z"
    },
    "trusted": true
   },
   "outputs": [],
   "source": [
    "# Import HuggingFace tools for semantic similarity (CodeBERT model)\n",
    "from transformers import AutoTokenizer, AutoModel\n",
    "import torch"
   ]
  },
  {
   "cell_type": "code",
   "execution_count": 5,
   "metadata": {
    "execution": {
     "iopub.execute_input": "2025-09-04T15:54:17.394569Z",
     "iopub.status.busy": "2025-09-04T15:54:17.394208Z",
     "iopub.status.idle": "2025-09-04T15:54:21.184972Z",
     "shell.execute_reply": "2025-09-04T15:54:21.184219Z",
     "shell.execute_reply.started": "2025-09-04T15:54:17.394550Z"
    },
    "trusted": true
   },
   "outputs": [
    {
     "name": "stdout",
     "output_type": "stream",
     "text": [
      "Collecting sacrebleu\n",
      "  Downloading sacrebleu-2.5.1-py3-none-any.whl.metadata (51 kB)\n",
      "\u001b[2K     \u001b[90m━━━━━━━━━━━━━━━━━━━━━━━━━━━━━━━━━━━━━━━━\u001b[0m \u001b[32m51.8/51.8 kB\u001b[0m \u001b[31m2.1 MB/s\u001b[0m eta \u001b[36m0:00:00\u001b[0m\n",
      "\u001b[?25hCollecting portalocker (from sacrebleu)\n",
      "  Downloading portalocker-3.2.0-py3-none-any.whl.metadata (8.7 kB)\n",
      "Requirement already satisfied: regex in /usr/local/lib/python3.11/dist-packages (from sacrebleu) (2024.11.6)\n",
      "Requirement already satisfied: tabulate>=0.8.9 in /usr/local/lib/python3.11/dist-packages (from sacrebleu) (0.9.0)\n",
      "Requirement already satisfied: numpy>=1.17 in /usr/local/lib/python3.11/dist-packages (from sacrebleu) (1.26.4)\n",
      "Requirement already satisfied: colorama in /usr/local/lib/python3.11/dist-packages (from sacrebleu) (0.4.6)\n",
      "Requirement already satisfied: lxml in /usr/local/lib/python3.11/dist-packages (from sacrebleu) (5.4.0)\n",
      "Requirement already satisfied: mkl_fft in /usr/local/lib/python3.11/dist-packages (from numpy>=1.17->sacrebleu) (1.3.8)\n",
      "Requirement already satisfied: mkl_random in /usr/local/lib/python3.11/dist-packages (from numpy>=1.17->sacrebleu) (1.2.4)\n",
      "Requirement already satisfied: mkl_umath in /usr/local/lib/python3.11/dist-packages (from numpy>=1.17->sacrebleu) (0.1.1)\n",
      "Requirement already satisfied: mkl in /usr/local/lib/python3.11/dist-packages (from numpy>=1.17->sacrebleu) (2025.2.0)\n",
      "Requirement already satisfied: tbb4py in /usr/local/lib/python3.11/dist-packages (from numpy>=1.17->sacrebleu) (2022.2.0)\n",
      "Requirement already satisfied: mkl-service in /usr/local/lib/python3.11/dist-packages (from numpy>=1.17->sacrebleu) (2.4.1)\n",
      "Requirement already satisfied: intel-openmp<2026,>=2024 in /usr/local/lib/python3.11/dist-packages (from mkl->numpy>=1.17->sacrebleu) (2024.2.0)\n",
      "Requirement already satisfied: tbb==2022.* in /usr/local/lib/python3.11/dist-packages (from mkl->numpy>=1.17->sacrebleu) (2022.2.0)\n",
      "Requirement already satisfied: tcmlib==1.* in /usr/local/lib/python3.11/dist-packages (from tbb==2022.*->mkl->numpy>=1.17->sacrebleu) (1.4.0)\n",
      "Requirement already satisfied: intel-cmplr-lib-rt in /usr/local/lib/python3.11/dist-packages (from mkl_umath->numpy>=1.17->sacrebleu) (2024.2.0)\n",
      "Requirement already satisfied: intel-cmplr-lib-ur==2024.2.0 in /usr/local/lib/python3.11/dist-packages (from intel-openmp<2026,>=2024->mkl->numpy>=1.17->sacrebleu) (2024.2.0)\n",
      "Downloading sacrebleu-2.5.1-py3-none-any.whl (104 kB)\n",
      "\u001b[2K   \u001b[90m━━━━━━━━━━━━━━━━━━━━━━━━━━━━━━━━━━━━━━━━\u001b[0m \u001b[32m104.1/104.1 kB\u001b[0m \u001b[31m4.8 MB/s\u001b[0m eta \u001b[36m0:00:00\u001b[0m\n",
      "\u001b[?25hDownloading portalocker-3.2.0-py3-none-any.whl (22 kB)\n",
      "Installing collected packages: portalocker, sacrebleu\n",
      "Successfully installed portalocker-3.2.0 sacrebleu-2.5.1\n"
     ]
    }
   ],
   "source": [
    "!pip install sacrebleu"
   ]
  },
  {
   "cell_type": "code",
   "execution_count": 6,
   "metadata": {
    "execution": {
     "iopub.execute_input": "2025-09-04T15:54:21.186369Z",
     "iopub.status.busy": "2025-09-04T15:54:21.186028Z",
     "iopub.status.idle": "2025-09-04T15:54:21.269903Z",
     "shell.execute_reply": "2025-09-04T15:54:21.269307Z",
     "shell.execute_reply.started": "2025-09-04T15:54:21.186331Z"
    },
    "trusted": true
   },
   "outputs": [],
   "source": [
    "# Import sacrebleu for token based similarity\n",
    "from sacrebleu.metrics import BLEU"
   ]
  },
  {
   "cell_type": "code",
   "execution_count": 7,
   "metadata": {
    "execution": {
     "iopub.execute_input": "2025-09-04T15:54:21.271133Z",
     "iopub.status.busy": "2025-09-04T15:54:21.270612Z",
     "iopub.status.idle": "2025-09-04T15:54:21.456142Z",
     "shell.execute_reply": "2025-09-04T15:54:21.455445Z",
     "shell.execute_reply.started": "2025-09-04T15:54:21.271098Z"
    },
    "trusted": true
   },
   "outputs": [
    {
     "name": "stdout",
     "output_type": "stream",
     "text": [
      "Data loaded with shape: (454, 8)\n",
      "Columns: ['#', 'Message', 'Filename', 'Source Code (before)', 'Source Code (current)', 'Diff', 'Fix Type (LLM)', 'Rectified Message']\n"
     ]
    }
   ],
   "source": [
    "# Load dataset from Kaggle input path\n",
    "df = pd.read_csv(\"/kaggle/input/laboratory3/diff_analysis.csv\")\n",
    "print(\"Data loaded with shape:\", df.shape)\n",
    "print(\"Columns:\", df.columns.tolist())"
   ]
  },
  {
   "cell_type": "code",
   "execution_count": 8,
   "metadata": {
    "execution": {
     "iopub.execute_input": "2025-09-04T15:54:21.457167Z",
     "iopub.status.busy": "2025-09-04T15:54:21.456943Z",
     "iopub.status.idle": "2025-09-04T15:54:21.471936Z",
     "shell.execute_reply": "2025-09-04T15:54:21.471193Z",
     "shell.execute_reply.started": "2025-09-04T15:54:21.457149Z"
    },
    "trusted": true
   },
   "outputs": [
    {
     "name": "stdout",
     "output_type": "stream",
     "text": [
      "                                          #  \\\n",
      "0  c02a213f8ea8d8873e8045a089fae4ac2637b8b4   \n",
      "1  1c816c9fe4c6cf3986890f0a19142bb3c3b08a8f   \n",
      "2  2c0b6cfbad8cd8a8067a50c3e15279e4d699d0bd   \n",
      "3  fa61141a57676b11cab3b0df135fa6898b97abac   \n",
      "4  ed2c3a1fdc36bc60cbe34f94efbb213e942755bb   \n",
      "\n",
      "                                             Message      Filename  \\\n",
      "0  scoring.py: Handle entries without initial_res...    scoring.py   \n",
      "1  scoring.py: Handle entries without initial_res...    scoring.py   \n",
      "2                   fix typo in cloning installation    README.rst   \n",
      "3          Raise a better error for a missing pyglet  rendering.py   \n",
      "4                           README: Fix package name    README.rst   \n",
      "\n",
      "                                Source Code (before)  \\\n",
      "0  \"\"\"This is the actual code we use to score peo...   \n",
      "1  \"\"\"This is the actual code we use to score peo...   \n",
      "2  gym\\n******\\n\\n**OpenAI Gym is a toolkit for d...   \n",
      "3  \"\"\"\\n2D rendering framework\\n\"\"\"\\nfrom __futur...   \n",
      "4  gym\\n******\\n\\n**OpenAI Gym is a toolkit for d...   \n",
      "\n",
      "                               Source Code (current)  \\\n",
      "0  \"\"\"This is the actual code we use to score peo...   \n",
      "1  \"\"\"This is the actual code we use to score peo...   \n",
      "2  gym\\n******\\n\\n**OpenAI Gym is a toolkit for d...   \n",
      "3  \"\"\"\\n2D rendering framework\\n\"\"\"\\nfrom __futur...   \n",
      "4  gym\\n******\\n\\n**OpenAI Gym is a toolkit for d...   \n",
      "\n",
      "                                                Diff  \\\n",
      "0  @@ -17,7 +17,8 @@ def score_from_remote(url):\\...   \n",
      "1  @@ -17,7 +17,8 @@ def score_from_remote(url):\\...   \n",
      "2  @@ -37,7 +37,7 @@ You can perform a minimal in...   \n",
      "3  @@ -10,7 +10,13 @@ if \"Apple\" in sys.version:\\...   \n",
      "4  @@ -74,7 +74,7 @@ On Ubuntu 14.04:\\n \\n .. cod...   \n",
      "\n",
      "                               Fix Type (LLM)  \\\n",
      "0                fix bug in score_from_remote   \n",
      "1                fix bug in score_from_remote   \n",
      "2                               update gym.rb   \n",
      "3  add note about installing gym dependencies   \n",
      "4   add missing space in list of system names   \n",
      "\n",
      "                                   Rectified Message  \n",
      "0  scoring.py: Handle entries without initial_res...  \n",
      "1  scoring.py: Handle entries without initial_res...  \n",
      "2                   fix typo in cloning installation  \n",
      "3          Raise a better error for a missing pyglet  \n",
      "4                           README: Fix package name  \n"
     ]
    }
   ],
   "source": [
    "print(df.head())"
   ]
  },
  {
   "cell_type": "code",
   "execution_count": 9,
   "metadata": {
    "execution": {
     "iopub.execute_input": "2025-09-04T15:54:21.472904Z",
     "iopub.status.busy": "2025-09-04T15:54:21.472672Z",
     "iopub.status.idle": "2025-09-04T15:54:21.480259Z",
     "shell.execute_reply": "2025-09-04T15:54:21.479279Z",
     "shell.execute_reply.started": "2025-09-04T15:54:21.472886Z"
    },
    "trusted": true
   },
   "outputs": [
    {
     "name": "stdout",
     "output_type": "stream",
     "text": [
      "                                            #  \\\n",
      "449  d337f4e5719bb8b49f2f9fba1501fe7749fa4d5c   \n",
      "450  d337f4e5719bb8b49f2f9fba1501fe7749fa4d5c   \n",
      "451  d337f4e5719bb8b49f2f9fba1501fe7749fa4d5c   \n",
      "452  d337f4e5719bb8b49f2f9fba1501fe7749fa4d5c   \n",
      "453  d337f4e5719bb8b49f2f9fba1501fe7749fa4d5c   \n",
      "\n",
      "                                               Message               Filename  \\\n",
      "449  TimeLimit refactor with Monitor Simplification...                play.py   \n",
      "450  TimeLimit refactor with Monitor Simplification...          monitoring.py   \n",
      "451  TimeLimit refactor with Monitor Simplification...       test_wrappers.py   \n",
      "452  TimeLimit refactor with Monitor Simplification...          time_limit.py   \n",
      "453  TimeLimit refactor with Monitor Simplification...  write_rollout_data.py   \n",
      "\n",
      "                                  Source Code (before)  \\\n",
      "449                                                NaN   \n",
      "450  import gym\\nfrom gym import monitoring\\nfrom g...   \n",
      "451  import gym\\nfrom gym import error\\nfrom gym im...   \n",
      "452  import time\\n\\nfrom gym import Wrapper\\n\\nimpo...   \n",
      "453  \"\"\"\\nThis script does a few rollouts with an e...   \n",
      "\n",
      "                                 Source Code (current)  \\\n",
      "449  import gym\\nimport pygame\\nimport sys\\nimport ...   \n",
      "450  import gym\\nfrom gym import Wrapper\\nfrom gym ...   \n",
      "451  import gym\\nfrom gym import error\\nfrom gym im...   \n",
      "452  import time\\n\\nfrom gym import Wrapper\\n\\nimpo...   \n",
      "453  \"\"\"\\nThis script does a few rollouts with an e...   \n",
      "\n",
      "                                                  Diff  \\\n",
      "449  @@ -0,0 +1,193 @@\\n+import gym\\n+import pygame...   \n",
      "450  @@ -1,32 +1,44 @@\\n import gym\\n-from gym impo...   \n",
      "451  @@ -16,7 +16,6 @@ def test_skip():\\n \\n def te...   \n",
      "452  @@ -37,12 +37,9 @@ class TimeLimit(Wrapper):\\n...   \n",
      "453  @@ -46,7 +46,7 @@ def main():\\n     alldata = ...   \n",
      "\n",
      "                                Fix Type (LLM)  \\\n",
      "449  add support for gym.utils.play.envplotter   \n",
      "450                  add gym monitor to openai   \n",
      "451                    add test for time limit   \n",
      "452              add a comment to timelimit.py   \n",
      "453                        update run_squad.py   \n",
      "\n",
      "                                     Rectified Message  \n",
      "449  TimeLimit refactor with Monitor Simplification...  \n",
      "450  TimeLimit refactor with Monitor Simplification...  \n",
      "451  TimeLimit refactor with Monitor Simplification...  \n",
      "452  TimeLimit refactor with Monitor Simplification...  \n",
      "453  TimeLimit refactor with Monitor Simplification...  \n"
     ]
    }
   ],
   "source": [
    "print(df.tail())"
   ]
  },
  {
   "cell_type": "code",
   "execution_count": 10,
   "metadata": {
    "execution": {
     "iopub.execute_input": "2025-09-04T15:54:21.481263Z",
     "iopub.status.busy": "2025-09-04T15:54:21.480999Z",
     "iopub.status.idle": "2025-09-04T15:54:21.492087Z",
     "shell.execute_reply": "2025-09-04T15:54:21.491331Z",
     "shell.execute_reply.started": "2025-09-04T15:54:21.481233Z"
    },
    "trusted": true
   },
   "outputs": [],
   "source": [
    "# Prepare column references\n",
    "col_commit = \"#\"                           # commit identifier column\n",
    "col_file = \"Filename\"                      # file name column\n",
    "col_before = \"Source Code (before)\"        # code before fix\n",
    "col_after = \"Source Code (current)\"        # code after fix\n",
    "col_fix = \"Fix Type (LLM)\"                 # fix type column"
   ]
  },
  {
   "cell_type": "code",
   "execution_count": 11,
   "metadata": {
    "execution": {
     "iopub.execute_input": "2025-09-04T15:54:21.493255Z",
     "iopub.status.busy": "2025-09-04T15:54:21.493004Z",
     "iopub.status.idle": "2025-09-04T15:54:21.519798Z",
     "shell.execute_reply": "2025-09-04T15:54:21.519154Z",
     "shell.execute_reply.started": "2025-09-04T15:54:21.493228Z"
    },
    "trusted": true
   },
   "outputs": [
    {
     "name": "stdout",
     "output_type": "stream",
     "text": [
      "Commits: 187\n",
      "Unique files: 132\n",
      "Avg files per commit: 2.33\n",
      "Fix type distribution:\n",
      " Fix Type (LLM)\n",
      "add missing import                            20\n",
      "add missing docstring                         10\n",
      "add missing comment                            7\n",
      "add missing game variables                     6\n",
      "update env.py                                  6\n",
      "                                              ..\n",
      "update manifest.py                             1\n",
      "add test for atexit_register                   1\n",
      "add documentation for object.close()           1\n",
      "add a new close registry class                 1\n",
      "add more info about memory usage in travis     1\n",
      "Name: count, Length: 359, dtype: int64\n",
      "Most common extensions:\n",
      " Filename\n",
      "py      403\n",
      "cfg      13\n",
      "rst      11\n",
      "yml       8\n",
      "json      6\n",
      "Name: count, dtype: int64\n"
     ]
    }
   ],
   "source": [
    "# Basic descriptive stats\n",
    "num_commits = df[col_commit].nunique()\n",
    "num_files = df[col_file].nunique()\n",
    "files_per_commit = df.groupby(col_commit)[col_file].nunique().mean()\n",
    "fix_distribution = df[col_fix].value_counts()\n",
    "ext_counts = df[col_file].apply(lambda x: str(x).split(\".\")[-1]).value_counts()\n",
    "\n",
    "print(\"Commits:\", num_commits)\n",
    "print(\"Unique files:\", num_files)\n",
    "print(\"Avg files per commit:\", round(files_per_commit, 2))\n",
    "print(\"Fix type distribution:\\n\", fix_distribution)\n",
    "print(\"Most common extensions:\\n\", ext_counts.head(5))\n"
   ]
  },
  {
   "cell_type": "code",
   "execution_count": null,
   "metadata": {
    "execution": {
     "iopub.execute_input": "2025-09-04T15:54:21.525251Z",
     "iopub.status.busy": "2025-09-04T15:54:21.524986Z",
     "iopub.status.idle": "2025-09-04T15:54:21.538765Z",
     "shell.execute_reply": "2025-09-04T15:54:21.538129Z",
     "shell.execute_reply.started": "2025-09-04T15:54:21.525230Z"
    },
    "trusted": true
   },
   "outputs": [],
   "source": [
    "# Function to compute radon metrics for one source string\n",
    "def radon_stats(src: str):\n",
    "    # normalize input\n",
    "    if src is None:\n",
    "        src = \"\"\n",
    "    src = str(src)\n",
    "\n",
    "    try:\n",
    "        # raw metrics -> use sloc (source lines) if available, else loc\n",
    "        raw = raw_metrics(src)\n",
    "        loc = getattr(raw, \"sloc\", getattr(raw, \"loc\", 0))\n",
    "\n",
    "        # cc_visit -> returns block objects (Function / Class) with .complexity\n",
    "        cc_blocks = cc_visit(src)\n",
    "        cc_vals = []\n",
    "        for b in cc_blocks:\n",
    "            # b usually has .complexity; if not, try numeric fallback\n",
    "            cc_vals.append(getattr(b, \"complexity\", float(b) if isinstance(b, (int, float)) else 0))\n",
    "        cc = float(np.mean(cc_vals)) if cc_vals else 0.0\n",
    "\n",
    "        # mi_visit -> return type can vary by mode/version; handle both scalar and iterable\n",
    "        mi_res = mi_visit(src, multi=True)\n",
    "        if isinstance(mi_res, (list, tuple)):\n",
    "            mi_vals = [getattr(m, \"mi\", m) for m in mi_res]\n",
    "            mi = float(np.mean(mi_vals)) if mi_vals else np.nan\n",
    "        else:\n",
    "            # mi_res might be a namedtuple with .mi or a scalar float\n",
    "            mi = float(getattr(mi_res, \"mi\", mi_res))\n",
    "\n",
    "        return mi, cc, loc\n",
    "\n",
    "    except Exception as e:\n",
    "        print(\"radon_stats error:\", e, \" (snippet start: )\", repr(src)[:200])\n",
    "        return np.nan, np.nan, np.nan"
   ]
  },
  {
   "cell_type": "code",
   "execution_count": 15,
   "metadata": {
    "execution": {
     "iopub.execute_input": "2025-09-04T15:54:21.552698Z",
     "iopub.status.busy": "2025-09-04T15:54:21.552022Z",
     "iopub.status.idle": "2025-09-04T16:20:16.787102Z",
     "shell.execute_reply": "2025-09-04T16:20:16.786421Z",
     "shell.execute_reply.started": "2025-09-04T15:54:21.552678Z"
    },
    "trusted": true
   },
   "outputs": [
    {
     "name": "stdout",
     "output_type": "stream",
     "text": [
      "radon_stats error: SyntaxError at line: 4  (snippet start: ) \"gym\\n******\\n\\n**OpenAI Gym is a toolkit for developing and comparing reinforcement learning algorithms.** This is the ``gym`` open-source library, which gives you access to an ever-growing variety o\n",
      "radon_stats error: SyntaxError at line: 4  (snippet start: ) \"gym\\n******\\n\\n**OpenAI Gym is a toolkit for developing and comparing reinforcement learning algorithms.** This is the ``gym`` open-source library, which gives you access to an ever-growing variety o\n",
      "radon_stats error: SyntaxError at line: 4  (snippet start: ) \"gym\\n******\\n\\n**OpenAI Gym is a toolkit for developing and comparing reinforcement learning algorithms.** This is the ``gym`` open-source library, which gives you access to an ever-growing variety o\n",
      "radon_stats error: SyntaxError at line: 4  (snippet start: ) \"gym\\n******\\n\\n**OpenAI Gym is a toolkit for developing and comparing reinforcement learning algorithms.** This is the ``gym`` open-source library, which gives you access to an ever-growing variety o\n",
      "radon_stats error: invalid decimal literal (<unknown>, line 20)  (snippet start: ) 'dist: trusty\\nsudo: required\\ncache:\\n  apt: true\\n  pip: false\\nlanguage: python\\npython:\\n  - \"2.7\"\\n  # - \"3.2\"\\n\\n# Install numpy and scipy so we don\\'t need to compile them\\naddons:\\n    apt:\\n \n",
      "radon_stats error: invalid decimal literal (<unknown>, line 20)  (snippet start: ) 'dist: trusty\\nsudo: required\\ncache:\\n  apt: true\\n  pip: false\\nlanguage: python\\npython:\\n  - \"2.7\"\\n  # - \"3.2\"\\n\\n# Install numpy and scipy so we don\\'t need to compile them\\naddons:\\n    apt:\\n \n",
      "radon_stats error: SyntaxError at line: 4  (snippet start: ) \"gym\\n******\\n\\n**OpenAI Gym is a toolkit for developing and comparing reinforcement learning algorithms.** This is the ``gym`` open-source library, which gives you access to an ever-growing variety o\n",
      "radon_stats error: SyntaxError at line: 4  (snippet start: ) \"gym\\n******\\n\\n**OpenAI Gym is a toolkit for developing and comparing reinforcement learning algorithms.** This is the ``gym`` open-source library, which gives you access to an ever-growing variety o\n",
      "radon_stats error: invalid decimal literal (<unknown>, line 20)  (snippet start: ) 'dist: trusty\\nsudo: required\\ncache:\\n  apt: true\\n  pip: false\\nlanguage: python\\naddons:\\n  apt:\\n    sources:\\n      - george-edison55-precise-backports # cmake 3.2.3\\n    packages:\\n      - cmake\n",
      "radon_stats error: SyntaxError at line: 4  (snippet start: ) 'gym\\n******\\n\\n.. image:: https://travis-ci.org/openai/gym.svg?branch=master\\n    :target: https://travis-ci.org/openai/gym\\n\\n**OpenAI Gym is a toolkit for developing and comparing reinforcement lea\n",
      "radon_stats error: invalid syntax (<unknown>, line 1)  (snippet start: ) '*.swp\\n*.pyc\\n*.py~\\n.DS_Store\\n\\n# Setuptools distribution and build folders.\\n/dist/\\n/build\\n\\n# Virtualenv\\n/env\\n\\n# Python egg metadata, regenerated from source files by setuptools.\\n/*.egg-inf\n",
      "radon_stats error: Missing parentheses in call to 'print'. Did you mean print(...)? (<unknown>, line 31)  (snippet start: ) \"#!/usr/bin/env python\\nimport argparse\\nimport pachi_py\\nimport gym\\nfrom gym import spaces, envs\\nfrom gym.envs.board_game import go\\n\\ndef main():\\n    parser = argparse.ArgumentParser()\\n    parse\n",
      "radon_stats error: multiple exception types must be parenthesized (<unknown>, line 6)  (snippet start: ) 'from gym.scoreboard import registration\\n\\ndef test_correct_registration():\\n    try:\\n        registration.registry.finalize(strict=True)\\n    except registration.RegistrationError, e:\\n        asse\n",
      "radon_stats error: SyntaxError at line: 1  (snippet start: ) '<?xml version=\"1.0\" encoding=\"UTF-8\"?>\\n<projectDescription>\\n\\t<name>gym</name>\\n\\t<comment></comment>\\n\\t<projects>\\n\\t</projects>\\n\\t<buildSpec>\\n\\t\\t<buildCommand>\\n\\t\\t\\t<name>org.python.pydev.P\n",
      "radon_stats error: SyntaxError at line: 1  (snippet start: ) '<?xml version=\"1.0\" encoding=\"UTF-8\" standalone=\"no\"?>\\n<?eclipse-pydev version=\"1.0\"?><pydev_project>\\n<pydev_pathproperty name=\"org.python.pydev.PROJECT_SOURCE_PATH\">\\n<path>/${PROJECT_DIR_NAME}</p\n",
      "radon_stats error: Missing parentheses in call to 'print'. Did you mean print(...)? (<unknown>, line 67)  (snippet start: ) 'import gym\\nimport random\\nfrom gym import spaces\\nfrom six import StringIO\\nimport sys\\nimport numpy as np\\nfrom sklearn.svm import SVR\\n\\nclass TransferArtificial(gym.Env):\\n    \"\"\"Environment for \n",
      "radon_stats error: invalid decimal literal (<unknown>, line 21)  (snippet start: ) 'dist: trusty\\nsudo: required\\ncache:\\n  apt: true\\n  pip: false\\nlanguage: python\\naddons:\\n  apt:\\n    sources:\\n      - george-edison55-precise-backports # cmake 3.2.3\\n    packages:\\n      - cmake\n",
      "radon_stats error: invalid decimal literal (<unknown>, line 21)  (snippet start: ) 'dist: trusty\\nsudo: required\\ncache:\\n  apt: true\\n  pip: false\\nlanguage: python\\naddons:\\n  apt:\\n    sources:\\n      - george-edison55-precise-backports # cmake 3.2.3\\n    packages:\\n      - cmake\n",
      "radon_stats error: invalid syntax (<unknown>, line 21)  (snippet start: ) \"# Lines starting with # are treated as comments (or with whitespaces+#).\\n# It doesn't matter if you use capital letters or not.\\n# It doesn't matter if you use underscore or camel notation for keys,\n",
      "radon_stats error: Missing parentheses in call to 'print'. Did you mean print(...)? (<unknown>, line 21)  (snippet start: ) '\\'\\'\\'\\nCreated on May 14, 2016\\n\\n@author: iaroslav\\n\\'\\'\\'\\nimport gym\\nimport time\\n\\nenv = gym.make(\\'ConvergenceControl-v0\\')\\nfor i_episode in xrange(20):\\n    \\n    observation = env.reset()\\n\n",
      "radon_stats error: invalid syntax (<unknown>, line 1)  (snippet start: ) '*.swp\\n*.pyc\\n*.py~\\n.DS_Store\\n\\n# Setuptools distribution and build folders.\\n/dist/\\n/build\\n\\n# Virtualenv\\n/env\\n\\n# Python egg metadata, regenerated from source files by setuptools.\\n/*.egg-inf\n",
      "radon_stats error: invalid decimal literal (<unknown>, line 28)  (snippet start: ) 'dist: trusty\\nsudo: required\\ncache:\\n  apt: true\\n  pip: false\\nlanguage: python\\naddons:\\n  apt:\\n    sources:\\n      - george-edison55-precise-backports # cmake 3.2.3\\n      - deadsnakes\\n    pack\n",
      "radon_stats error: SyntaxError at line: 4  (snippet start: ) 'gym\\n******\\n\\n.. image:: https://travis-ci.org/openai/gym.svg?branch=master\\n    :target: https://travis-ci.org/openai/gym\\n\\n**OpenAI Gym is a toolkit for developing and comparing reinforcement lea\n",
      "radon_stats error: SyntaxError at line: 4  (snippet start: ) 'gym\\n******\\n\\n.. image:: https://travis-ci.org/openai/gym.svg?branch=master\\n    :target: https://travis-ci.org/openai/gym\\n\\n**OpenAI Gym is a toolkit for developing and comparing reinforcement lea\n",
      "radon_stats error: invalid syntax (<unknown>, line 21)  (snippet start: ) \"# Lines starting with # are treated as comments (or with whitespaces+#).\\n# It doesn't matter if you use capital letters or not.\\n# It doesn't matter if you use underscore or camel notation for keys,\n",
      "radon_stats error: SyntaxError at line: 4  (snippet start: ) 'gym\\n******\\n\\n.. image:: https://travis-ci.org/openai/gym.svg?branch=master\\n    :target: https://travis-ci.org/openai/gym\\n\\n**OpenAI Gym is a toolkit for developing and comparing reinforcement lea\n",
      "radon_stats error: invalid syntax (<unknown>, line 21)  (snippet start: ) \"# Lines starting with # are treated as comments (or with whitespaces+#).\\n# It doesn't matter if you use capital letters or not.\\n# It doesn't matter if you use underscore or camel notation for keys,\n",
      "radon_stats error: SyntaxError at line: 4  (snippet start: ) 'gym\\n******\\n\\n.. image:: https://travis-ci.org/openai/gym.svg?branch=master\\n    :target: https://travis-ci.org/openai/gym\\n\\n**OpenAI Gym is a toolkit for developing and comparing reinforcement lea\n",
      "radon_stats error: invalid decimal literal (<unknown>, line 31)  (snippet start: ) 'dist: trusty\\nsudo: required\\ncache:\\n  apt: true\\n  pip: true\\nlanguage: python\\naddons:\\n  apt:\\n    sources:\\n      - george-edison55-precise-backports # cmake 3.2.3\\n      - deadsnakes\\n    packa\n",
      "radon_stats error: invalid syntax (<unknown>, line 24)  (snippet start: ) \"# Lines starting with # are treated as comments (or with whitespaces+#).\\n# It doesn't matter if you use capital letters or not.\\n# It doesn't matter if you use underscore or camel notation for keys,\n",
      "radon_stats error: invalid syntax (<unknown>, line 24)  (snippet start: ) \"# Lines starting with # are treated as comments (or with whitespaces+#).\\n# It doesn't matter if you use capital letters or not.\\n# It doesn't matter if you use underscore or camel notation for keys,\n",
      "radon_stats error: invalid syntax (<unknown>, line 21)  (snippet start: ) \"# Lines starting with # are treated as comments (or with whitespaces+#).\\n# It doesn't matter if you use capital letters or not.\\n# It doesn't matter if you use underscore or camel notation for keys,\n",
      "radon_stats error: invalid syntax (<unknown>, line 24)  (snippet start: ) \"# Lines starting with # are treated as comments (or with whitespaces+#).\\n# It doesn't matter if you use capital letters or not.\\n# It doesn't matter if you use underscore or camel notation for keys,\n",
      "radon_stats error: invalid syntax (<unknown>, line 24)  (snippet start: ) \"# Lines starting with # are treated as comments (or with whitespaces+#).\\n# It doesn't matter if you use capital letters or not.\\n# It doesn't matter if you use underscore or camel notation for keys,\n",
      "radon_stats error: invalid syntax (<unknown>, line 25)  (snippet start: ) \"# Lines starting with # are treated as comments (or with whitespaces+#).\\n# It doesn't matter if you use capital letters or not.\\n# It doesn't matter if you use underscore or camel notation for keys,\n",
      "radon_stats error: invalid syntax (<unknown>, line 24)  (snippet start: ) \"# Lines starting with # are treated as comments (or with whitespaces+#).\\n# It doesn't matter if you use capital letters or not.\\n# It doesn't matter if you use underscore or camel notation for keys,\n",
      "radon_stats error: invalid syntax (<unknown>, line 24)  (snippet start: ) \"# Lines starting with # are treated as comments (or with whitespaces+#).\\n# It doesn't matter if you use capital letters or not.\\n# It doesn't matter if you use underscore or camel notation for keys,\n",
      "radon_stats error: invalid syntax (<unknown>, line 24)  (snippet start: ) \"# Lines starting with # are treated as comments (or with whitespaces+#).\\n# It doesn't matter if you use capital letters or not.\\n# It doesn't matter if you use underscore or camel notation for keys,\n",
      "radon_stats error: SyntaxError at line: 15  (snippet start: ) '###Controls\\n\\nDoom is usually played with a full keyboard, and multiple keys can be pressed at once.\\n\\nTo replicate this, we broke down the possible actions in 40 keys. Each key can be pressed (val\n",
      "radon_stats error: invalid syntax (<unknown>, line 20)  (snippet start: ) \"# Lines starting with # are treated as comments (or with whitespaces+#).\\n# It doesn't matter if you use capital letters or not.\\n# It doesn't matter if you use underscore or camel notation for keys,\n",
      "radon_stats error: invalid decimal literal (<unknown>, line 31)  (snippet start: ) 'dist: trusty\\nsudo: required\\ncache:\\n  apt: true\\n  pip: true\\nlanguage: python\\naddons:\\n  apt:\\n    sources:\\n      - george-edison55-precise-backports # cmake 3.2.3\\n      - deadsnakes\\n    packa\n",
      "radon_stats error: SyntaxError at line: 7  (snippet start: ) '#!/bin/sh\\n\\n# This script is the entrypoint for our Docker image.\\n\\nset -e\\n\\npath=$(cd $(dirname \"$0\") && pwd)\\n\\n[ -z ${MUJOCO_KEY_BUNDLE+x} ] || ( mkdir -p ~/.mujoco && curl https://openai-publi\n",
      "radon_stats error: invalid syntax (<unknown>, line 2)  (snippet start: ) '# A Dockerfile that sets up a full Gym install\\nFROM quay.io/openai/gym:base\\n\\nRUN apt-get update \\\\\\n    && apt-get install -y libav-tools \\\\\\n    python-numpy \\\\\\n    python-scipy \\\\\\n    python-p\n",
      "radon_stats error: SyntaxError at line: 8  (snippet start: ) '# Wrappers (experimental)\\n\\nThis is a placeholder for now: we will likely soon start adding\\nstandardized wrappers for environments. (Only stable and\\ngeneral-purpose wrappers will be accepted into \n",
      "radon_stats error: SyntaxError at line: 39  (snippet start: ) '# A Dockerfile that sets up a full Gym install\\nFROM quay.io/openai/gym:base\\n\\nRUN apt-get update \\\\\\n    && apt-get install -y libav-tools \\\\\\n    python-numpy \\\\\\n    python-scipy \\\\\\n    python-p\n",
      "radon_stats error: Missing parentheses in call to 'print'. Did you mean print(...)? (<unknown>, line 43)  (snippet start: ) '\"\"\"\\nThis script does a few rollouts with an environment and writes the data to an npz file\\nIts purpose is to help with verifying that you haven\\'t functionally changed an environment.\\n(If you have\n",
      "radon_stats error: SyntaxError at line: 4  (snippet start: ) \"gym\\n******\\n\\n**OpenAI Gym is a toolkit for developing and comparing reinforcement learning algorithms.** This is the ``gym`` open-source library, which gives you access to an ever-growing variety o\n",
      "radon_stats error: SyntaxError at line: 4  (snippet start: ) \"gym\\n******\\n\\n**OpenAI Gym is a toolkit for developing and comparing reinforcement learning algorithms.** This is the ``gym`` open-source library, which gives you access to an ever-growing variety o\n",
      "radon_stats error: SyntaxError at line: 4  (snippet start: ) \"gym\\n******\\n\\n**OpenAI Gym is a toolkit for developing and comparing reinforcement learning algorithms.** This is the ``gym`` open-source library, which gives you access to an ever-growing variety o\n",
      "radon_stats error: SyntaxError at line: 4  (snippet start: ) \"gym\\n******\\n\\n**OpenAI Gym is a toolkit for developing and comparing reinforcement learning algorithms.** This is the ``gym`` open-source library, which gives you access to an ever-growing variety o\n",
      "radon_stats error: invalid decimal literal (<unknown>, line 20)  (snippet start: ) 'dist: trusty\\nsudo: required\\ncache:\\n  apt: true\\n  pip: false\\nlanguage: python\\npython:\\n  - \"2.7\"\\n  # - \"3.2\"\\n\\n# Install numpy and scipy so we don\\'t need to compile them\\naddons:\\n    apt:\\n \n",
      "radon_stats error: invalid decimal literal (<unknown>, line 20)  (snippet start: ) 'dist: trusty\\nsudo: required\\ncache:\\n  apt: true\\n  pip: false\\nlanguage: python\\npython:\\n  - \"2.7\"\\n  # - \"3.2\"\\n\\n# Install numpy and scipy so we don\\'t need to compile them\\naddons:\\n    apt:\\n \n",
      "radon_stats error: SyntaxError at line: 4  (snippet start: ) \"gym\\n******\\n\\n**OpenAI Gym is a toolkit for developing and comparing reinforcement learning algorithms.** This is the ``gym`` open-source library, which gives you access to an ever-growing variety o\n",
      "radon_stats error: SyntaxError at line: 4  (snippet start: ) \"gym\\n******\\n\\n**OpenAI Gym is a toolkit for developing and comparing reinforcement learning algorithms.** This is the ``gym`` open-source library, which gives you access to an ever-growing variety o\n",
      "radon_stats error: invalid decimal literal (<unknown>, line 20)  (snippet start: ) 'dist: trusty\\nsudo: required\\ncache:\\n  apt: true\\n  pip: false\\nlanguage: python\\naddons:\\n  apt:\\n    sources:\\n      - george-edison55-precise-backports # cmake 3.2.3\\n    packages:\\n      - cmake\n",
      "radon_stats error: SyntaxError at line: 4  (snippet start: ) 'gym\\n******\\n\\n.. image:: https://travis-ci.org/openai/gym.svg?branch=master\\n    :target: https://travis-ci.org/openai/gym\\n\\n**OpenAI Gym is a toolkit for developing and comparing reinforcement lea\n",
      "radon_stats error: invalid syntax (<unknown>, line 1)  (snippet start: ) '*.swp\\n*.pyc\\n*.py~\\n.DS_Store\\n\\n# Setuptools distribution and build folders.\\n/dist/\\n/build\\n\\n# Virtualenv\\n/env\\n\\n# Python egg metadata, regenerated from source files by setuptools.\\n/*.egg-inf\n",
      "radon_stats error: invalid decimal literal (<unknown>, line 21)  (snippet start: ) 'dist: trusty\\nsudo: required\\ncache:\\n  apt: true\\n  pip: false\\nlanguage: python\\naddons:\\n  apt:\\n    sources:\\n      - george-edison55-precise-backports # cmake 3.2.3\\n    packages:\\n      - cmake\n",
      "radon_stats error: invalid decimal literal (<unknown>, line 26)  (snippet start: ) 'dist: trusty\\nsudo: required\\ncache:\\n  apt: true\\n  pip: false\\nlanguage: python\\naddons:\\n  apt:\\n    sources:\\n      - george-edison55-precise-backports # cmake 3.2.3\\n    packages:\\n      - cmake\n",
      "radon_stats error: invalid syntax (<unknown>, line 21)  (snippet start: ) \"# Lines starting with # are treated as comments (or with whitespaces+#).\\n# It doesn't matter if you use capital letters or not.\\n# It doesn't matter if you use underscore or camel notation for keys,\n",
      "radon_stats error: invalid syntax (<unknown>, line 1)  (snippet start: ) '*.swp\\n*.pyc\\n*.py~\\n.DS_Store\\n\\n# Setuptools distribution and build folders.\\n/dist/\\n/build\\n\\n# Virtualenv\\n/env\\n\\n# Python egg metadata, regenerated from source files by setuptools.\\n/*.egg-inf\n",
      "radon_stats error: invalid decimal literal (<unknown>, line 28)  (snippet start: ) 'dist: trusty\\nsudo: required\\ncache:\\n  apt: true\\n  pip: true\\nlanguage: python\\naddons:\\n  apt:\\n    sources:\\n      - george-edison55-precise-backports # cmake 3.2.3\\n      - deadsnakes\\n    packa\n",
      "radon_stats error: SyntaxError at line: 4  (snippet start: ) 'gym\\n******\\n\\n.. image:: https://travis-ci.org/openai/gym.svg?branch=master\\n    :target: https://travis-ci.org/openai/gym\\n\\n**OpenAI Gym is a toolkit for developing and comparing reinforcement lea\n",
      "radon_stats error: SyntaxError at line: 4  (snippet start: ) 'gym\\n******\\n\\n.. image:: https://travis-ci.org/openai/gym.svg?branch=master\\n    :target: https://travis-ci.org/openai/gym\\n\\n**OpenAI Gym is a toolkit for developing and comparing reinforcement lea\n",
      "radon_stats error: invalid syntax (<unknown>, line 21)  (snippet start: ) \"# Lines starting with # are treated as comments (or with whitespaces+#).\\n# It doesn't matter if you use capital letters or not.\\n# It doesn't matter if you use underscore or camel notation for keys,\n",
      "radon_stats error: SyntaxError at line: 4  (snippet start: ) 'gym\\n******\\n\\n.. image:: https://travis-ci.org/openai/gym.svg?branch=master\\n    :target: https://travis-ci.org/openai/gym\\n\\n**OpenAI Gym is a toolkit for developing and comparing reinforcement lea\n",
      "radon_stats error: invalid syntax (<unknown>, line 21)  (snippet start: ) \"# Lines starting with # are treated as comments (or with whitespaces+#).\\n# It doesn't matter if you use capital letters or not.\\n# It doesn't matter if you use underscore or camel notation for keys,\n",
      "radon_stats error: SyntaxError at line: 4  (snippet start: ) 'gym\\n******\\n\\n.. image:: https://travis-ci.org/openai/gym.svg?branch=master\\n    :target: https://travis-ci.org/openai/gym\\n\\n**OpenAI Gym is a toolkit for developing and comparing reinforcement lea\n",
      "radon_stats error: invalid decimal literal (<unknown>, line 31)  (snippet start: ) 'dist: trusty\\nsudo: required\\ncache:\\n  apt: true\\n  pip: true\\nlanguage: python\\naddons:\\n  apt:\\n    sources:\\n      - george-edison55-precise-backports # cmake 3.2.3\\n      - deadsnakes\\n    packa\n",
      "radon_stats error: invalid syntax (<unknown>, line 24)  (snippet start: ) \"# Lines starting with # are treated as comments (or with whitespaces+#).\\n# It doesn't matter if you use capital letters or not.\\n# It doesn't matter if you use underscore or camel notation for keys,\n",
      "radon_stats error: invalid syntax (<unknown>, line 24)  (snippet start: ) \"# Lines starting with # are treated as comments (or with whitespaces+#).\\n# It doesn't matter if you use capital letters or not.\\n# It doesn't matter if you use underscore or camel notation for keys,\n",
      "radon_stats error: invalid syntax (<unknown>, line 21)  (snippet start: ) \"# Lines starting with # are treated as comments (or with whitespaces+#).\\n# It doesn't matter if you use capital letters or not.\\n# It doesn't matter if you use underscore or camel notation for keys,\n",
      "radon_stats error: invalid syntax (<unknown>, line 24)  (snippet start: ) \"# Lines starting with # are treated as comments (or with whitespaces+#).\\n# It doesn't matter if you use capital letters or not.\\n# It doesn't matter if you use underscore or camel notation for keys,\n",
      "radon_stats error: invalid syntax (<unknown>, line 24)  (snippet start: ) \"# Lines starting with # are treated as comments (or with whitespaces+#).\\n# It doesn't matter if you use capital letters or not.\\n# It doesn't matter if you use underscore or camel notation for keys,\n",
      "radon_stats error: invalid syntax (<unknown>, line 25)  (snippet start: ) \"# Lines starting with # are treated as comments (or with whitespaces+#).\\n# It doesn't matter if you use capital letters or not.\\n# It doesn't matter if you use underscore or camel notation for keys,\n",
      "radon_stats error: invalid syntax (<unknown>, line 24)  (snippet start: ) \"# Lines starting with # are treated as comments (or with whitespaces+#).\\n# It doesn't matter if you use capital letters or not.\\n# It doesn't matter if you use underscore or camel notation for keys,\n",
      "radon_stats error: invalid syntax (<unknown>, line 24)  (snippet start: ) \"# Lines starting with # are treated as comments (or with whitespaces+#).\\n# It doesn't matter if you use capital letters or not.\\n# It doesn't matter if you use underscore or camel notation for keys,\n",
      "radon_stats error: invalid syntax (<unknown>, line 24)  (snippet start: ) \"# Lines starting with # are treated as comments (or with whitespaces+#).\\n# It doesn't matter if you use capital letters or not.\\n# It doesn't matter if you use underscore or camel notation for keys,\n",
      "radon_stats error: SyntaxError at line: 21  (snippet start: ) \"###Controls\\n\\nDoom is usually played with a full keyboard, and multiple keys can be pressed at once.\\n\\nTo replicate this, we broke down the possible actions in 43 keys. Each key can be pressed (val\n",
      "radon_stats error: invalid syntax (<unknown>, line 21)  (snippet start: ) \"# Lines starting with # are treated as comments (or with whitespaces+#).\\n# It doesn't matter if you use capital letters or not.\\n# It doesn't matter if you use underscore or camel notation for keys,\n",
      "radon_stats error: SyntaxError at line: 41  (snippet start: ) 'dist: trusty\\nsudo: required\\ncache:\\n  apt: true\\n  pip: true\\nlanguage: python\\naddons:\\n  apt:\\n    sources:\\n      - george-edison55-precise-backports # cmake 3.2.3\\n      - deadsnakes\\n    packa\n",
      "radon_stats error: SyntaxError at line: 7  (snippet start: ) '#!/bin/sh\\n\\n# This script is the entrypoint for our Docker image.\\n\\nset -e\\n\\npath=$(cd $(dirname \"$0\") && pwd)\\n\\n[ -z \"${MUJOCO_KEY_BUNDLE}\" ] || ( mkdir -p ~/.mujoco && curl https://openai-publi\n",
      "radon_stats error: invalid syntax (<unknown>, line 2)  (snippet start: ) '# A Dockerfile that sets up a full Gym install\\nFROM quay.io/openai/gym:base\\n\\nRUN apt-get update \\\\\\n    && apt-get install -y libav-tools \\\\\\n    python-numpy \\\\\\n    python-scipy \\\\\\n    python-p\n",
      "radon_stats error: SyntaxError at line: 8  (snippet start: ) '# Wrappers (experimental)\\n\\nThis is a placeholder for now: we will likely soon start adding\\nstandardized wrappers for environments. (Only stable and\\ngeneral-purpose wrappers will be accepted into \n",
      "radon_stats error: SyntaxError at line: 40  (snippet start: ) '# A Dockerfile that sets up a full Gym install\\nFROM quay.io/openai/gym:base\\n\\nRUN apt-get update \\\\\\n    && apt-get install -y libav-tools \\\\\\n    python-numpy \\\\\\n    python-scipy \\\\\\n    python-p\n",
      "radon_stats error: Missing parentheses in call to 'print'. Did you mean print(...)? (<unknown>, line 43)  (snippet start: ) '\"\"\"\\nThis script does a few rollouts with an environment and writes the data to an npz file\\nIts purpose is to help with verifying that you haven\\'t functionally changed an environment.\\n(If you have\n"
     ]
    }
   ],
   "source": [
    "# compute BEFORE metrics\n",
    "results_before = df[col_before].fillna(\"\").astype(str).apply(radon_stats)\n",
    "df[[\"MI_Before\",\"CC_Before\",\"LOC_Before\"]] = pd.DataFrame(results_before.tolist(), index=df.index)\n",
    "\n",
    "# compute AFTER metrics\n",
    "results_after = df[col_after].fillna(\"\").astype(str).apply(radon_stats)\n",
    "df[[\"MI_After\",\"CC_After\",\"LOC_After\"]] = pd.DataFrame(results_after.tolist(), index=df.index)\n",
    "\n",
    "df[\"MI_Change\"]  = df[\"MI_After\"] - df[\"MI_Before\"]\n",
    "df[\"CC_Change\"]  = df[\"CC_After\"] - df[\"CC_Before\"]\n",
    "df[\"LOC_Change\"] = df[\"LOC_After\"] - df[\"LOC_Before\"]\n"
   ]
  },
  {
   "cell_type": "code",
   "execution_count": 16,
   "metadata": {
    "execution": {
     "iopub.execute_input": "2025-09-04T16:20:16.788200Z",
     "iopub.status.busy": "2025-09-04T16:20:16.787922Z",
     "iopub.status.idle": "2025-09-04T16:20:43.567983Z",
     "shell.execute_reply": "2025-09-04T16:20:43.567217Z",
     "shell.execute_reply.started": "2025-09-04T16:20:16.788169Z"
    },
    "trusted": true
   },
   "outputs": [
    {
     "data": {
      "application/vnd.jupyter.widget-view+json": {
       "model_id": "961a84021af64c30a3eb46135ae5c8ce",
       "version_major": 2,
       "version_minor": 0
      },
      "text/plain": [
       "tokenizer_config.json:   0%|          | 0.00/25.0 [00:00<?, ?B/s]"
      ]
     },
     "metadata": {},
     "output_type": "display_data"
    },
    {
     "data": {
      "application/vnd.jupyter.widget-view+json": {
       "model_id": "26d1b7cf11c94ecfa2e7253c30130a6d",
       "version_major": 2,
       "version_minor": 0
      },
      "text/plain": [
       "config.json:   0%|          | 0.00/498 [00:00<?, ?B/s]"
      ]
     },
     "metadata": {},
     "output_type": "display_data"
    },
    {
     "data": {
      "application/vnd.jupyter.widget-view+json": {
       "model_id": "95881f427dd94938a111786be01efe2e",
       "version_major": 2,
       "version_minor": 0
      },
      "text/plain": [
       "vocab.json: 0.00B [00:00, ?B/s]"
      ]
     },
     "metadata": {},
     "output_type": "display_data"
    },
    {
     "data": {
      "application/vnd.jupyter.widget-view+json": {
       "model_id": "c06ff712ce4e46aab6c8637fc76dc492",
       "version_major": 2,
       "version_minor": 0
      },
      "text/plain": [
       "merges.txt: 0.00B [00:00, ?B/s]"
      ]
     },
     "metadata": {},
     "output_type": "display_data"
    },
    {
     "data": {
      "application/vnd.jupyter.widget-view+json": {
       "model_id": "04bf2968ec23419c9fae0e250bf8ef40",
       "version_major": 2,
       "version_minor": 0
      },
      "text/plain": [
       "special_tokens_map.json:   0%|          | 0.00/150 [00:00<?, ?B/s]"
      ]
     },
     "metadata": {},
     "output_type": "display_data"
    },
    {
     "name": "stderr",
     "output_type": "stream",
     "text": [
      "2025-09-04 16:20:28.472208: E external/local_xla/xla/stream_executor/cuda/cuda_fft.cc:477] Unable to register cuFFT factory: Attempting to register factory for plugin cuFFT when one has already been registered\n",
      "WARNING: All log messages before absl::InitializeLog() is called are written to STDERR\n",
      "E0000 00:00:1757002828.660888      36 cuda_dnn.cc:8310] Unable to register cuDNN factory: Attempting to register factory for plugin cuDNN when one has already been registered\n",
      "E0000 00:00:1757002828.711599      36 cuda_blas.cc:1418] Unable to register cuBLAS factory: Attempting to register factory for plugin cuBLAS when one has already been registered\n"
     ]
    },
    {
     "data": {
      "application/vnd.jupyter.widget-view+json": {
       "model_id": "4d81e3581f2141fe926bc6b3c918495e",
       "version_major": 2,
       "version_minor": 0
      },
      "text/plain": [
       "pytorch_model.bin:   0%|          | 0.00/499M [00:00<?, ?B/s]"
      ]
     },
     "metadata": {},
     "output_type": "display_data"
    },
    {
     "data": {
      "application/vnd.jupyter.widget-view+json": {
       "model_id": "34fcc586d90e4030b4060c974fc4882a",
       "version_major": 2,
       "version_minor": 0
      },
      "text/plain": [
       "model.safetensors:   0%|          | 0.00/499M [00:00<?, ?B/s]"
      ]
     },
     "metadata": {},
     "output_type": "display_data"
    },
    {
     "data": {
      "text/plain": [
       "RobertaModel(\n",
       "  (embeddings): RobertaEmbeddings(\n",
       "    (word_embeddings): Embedding(50265, 768, padding_idx=1)\n",
       "    (position_embeddings): Embedding(514, 768, padding_idx=1)\n",
       "    (token_type_embeddings): Embedding(1, 768)\n",
       "    (LayerNorm): LayerNorm((768,), eps=1e-05, elementwise_affine=True)\n",
       "    (dropout): Dropout(p=0.1, inplace=False)\n",
       "  )\n",
       "  (encoder): RobertaEncoder(\n",
       "    (layer): ModuleList(\n",
       "      (0-11): 12 x RobertaLayer(\n",
       "        (attention): RobertaAttention(\n",
       "          (self): RobertaSdpaSelfAttention(\n",
       "            (query): Linear(in_features=768, out_features=768, bias=True)\n",
       "            (key): Linear(in_features=768, out_features=768, bias=True)\n",
       "            (value): Linear(in_features=768, out_features=768, bias=True)\n",
       "            (dropout): Dropout(p=0.1, inplace=False)\n",
       "          )\n",
       "          (output): RobertaSelfOutput(\n",
       "            (dense): Linear(in_features=768, out_features=768, bias=True)\n",
       "            (LayerNorm): LayerNorm((768,), eps=1e-05, elementwise_affine=True)\n",
       "            (dropout): Dropout(p=0.1, inplace=False)\n",
       "          )\n",
       "        )\n",
       "        (intermediate): RobertaIntermediate(\n",
       "          (dense): Linear(in_features=768, out_features=3072, bias=True)\n",
       "          (intermediate_act_fn): GELUActivation()\n",
       "        )\n",
       "        (output): RobertaOutput(\n",
       "          (dense): Linear(in_features=3072, out_features=768, bias=True)\n",
       "          (LayerNorm): LayerNorm((768,), eps=1e-05, elementwise_affine=True)\n",
       "          (dropout): Dropout(p=0.1, inplace=False)\n",
       "        )\n",
       "      )\n",
       "    )\n",
       "  )\n",
       "  (pooler): RobertaPooler(\n",
       "    (dense): Linear(in_features=768, out_features=768, bias=True)\n",
       "    (activation): Tanh()\n",
       "  )\n",
       ")"
      ]
     },
     "execution_count": 16,
     "metadata": {},
     "output_type": "execute_result"
    }
   ],
   "source": [
    "# Setup CodeBERT model and tokenizer for semantic similarity\n",
    "tokenizer = AutoTokenizer.from_pretrained(\"microsoft/codebert-base\")\n",
    "model = AutoModel.from_pretrained(\"microsoft/codebert-base\")\n",
    "device = \"cuda\" if torch.cuda.is_available() else \"cpu\"\n",
    "model.to(device)"
   ]
  },
  {
   "cell_type": "code",
   "execution_count": 17,
   "metadata": {
    "execution": {
     "iopub.execute_input": "2025-09-04T16:20:43.569388Z",
     "iopub.status.busy": "2025-09-04T16:20:43.568813Z",
     "iopub.status.idle": "2025-09-04T16:20:43.574376Z",
     "shell.execute_reply": "2025-09-04T16:20:43.573579Z",
     "shell.execute_reply.started": "2025-09-04T16:20:43.569367Z"
    },
    "trusted": true
   },
   "outputs": [],
   "source": [
    "# Helper to get mean pooled embeddings\n",
    "def get_embedding(texts):\n",
    "    enc = tokenizer(texts, padding=True, truncation=True, max_length=512, return_tensors=\"pt\").to(device)\n",
    "    with torch.no_grad():\n",
    "        out = model(**enc).last_hidden_state\n",
    "        mask = enc[\"attention_mask\"].unsqueeze(-1).expand(out.size()).float()\n",
    "        pooled = (out * mask).sum(1) / mask.sum(1)\n",
    "    return pooled.cpu().numpy()\n"
   ]
  },
  {
   "cell_type": "code",
   "execution_count": null,
   "metadata": {
    "execution": {
     "iopub.execute_input": "2025-09-04T16:20:43.576282Z",
     "iopub.status.busy": "2025-09-04T16:20:43.575224Z",
     "iopub.status.idle": "2025-09-04T16:21:13.870408Z",
     "shell.execute_reply": "2025-09-04T16:21:13.869672Z",
     "shell.execute_reply.started": "2025-09-04T16:20:43.576257Z"
    },
    "trusted": true
   },
   "outputs": [
    {
     "name": "stdout",
     "output_type": "stream",
     "text": [
      "Computed Semantic_Similarity (batched). Example:\n"
     ]
    },
    {
     "data": {
      "text/html": [
       "<div>\n",
       "<style scoped>\n",
       "    .dataframe tbody tr th:only-of-type {\n",
       "        vertical-align: middle;\n",
       "    }\n",
       "\n",
       "    .dataframe tbody tr th {\n",
       "        vertical-align: top;\n",
       "    }\n",
       "\n",
       "    .dataframe thead th {\n",
       "        text-align: right;\n",
       "    }\n",
       "</style>\n",
       "<table border=\"1\" class=\"dataframe\">\n",
       "  <thead>\n",
       "    <tr style=\"text-align: right;\">\n",
       "      <th></th>\n",
       "      <th>Semantic_Similarity</th>\n",
       "    </tr>\n",
       "  </thead>\n",
       "  <tbody>\n",
       "    <tr>\n",
       "      <th>0</th>\n",
       "      <td>0.999688</td>\n",
       "    </tr>\n",
       "    <tr>\n",
       "      <th>1</th>\n",
       "      <td>0.999688</td>\n",
       "    </tr>\n",
       "    <tr>\n",
       "      <th>2</th>\n",
       "      <td>0.999963</td>\n",
       "    </tr>\n",
       "    <tr>\n",
       "      <th>3</th>\n",
       "      <td>0.998060</td>\n",
       "    </tr>\n",
       "    <tr>\n",
       "      <th>4</th>\n",
       "      <td>1.000000</td>\n",
       "    </tr>\n",
       "  </tbody>\n",
       "</table>\n",
       "</div>"
      ],
      "text/plain": [
       "   Semantic_Similarity\n",
       "0             0.999688\n",
       "1             0.999688\n",
       "2             0.999963\n",
       "3             0.998060\n",
       "4             1.000000"
      ]
     },
     "execution_count": 18,
     "metadata": {},
     "output_type": "execute_result"
    }
   ],
   "source": [
    "# compute CodeBERT semantic similarities in batches and handle empty code safely\n",
    "import math\n",
    "\n",
    "def embed_texts_batched(texts, batch_size=16):\n",
    "    \"\"\"Return numpy array (n_rows, hidden_size) of embeddings; empty strings -> zero vector.\"\"\"\n",
    "    all_embs = []\n",
    "    hidden_size = model.config.hidden_size if hasattr(model.config, \"hidden_size\") else 768\n",
    "    n = len(texts)\n",
    "    for i in range(0, n, batch_size):\n",
    "        batch = texts[i:i+batch_size]\n",
    "        # mark which are empty\n",
    "        empty_mask = [not bool(str(x).strip()) for x in batch]\n",
    "        # replace empties with a single space so tokenizer works, but we'll zero them out post-embedding\n",
    "        processed = [str(x) if str(x).strip() else \" \" for x in batch]\n",
    "        enc = tokenizer(processed, padding=True, truncation=True, max_length=512, return_tensors=\"pt\")\n",
    "        enc = {k: v.to(device) for k, v in enc.items()}\n",
    "        with torch.no_grad():\n",
    "            out = model(**enc).last_hidden_state\n",
    "            mask = enc[\"attention_mask\"].unsqueeze(-1).expand(out.size()).float()\n",
    "            pooled = (out * mask).sum(1) / mask.sum(1)\n",
    "            pooled = pooled.cpu().numpy()\n",
    "        # zero-out embeddings corresponding to original empty strings\n",
    "        for j, is_empty in enumerate(empty_mask):\n",
    "            if is_empty:\n",
    "                pooled[j] = np.zeros(pooled.shape[1], dtype=float)\n",
    "        all_embs.append(pooled)\n",
    "    return np.vstack(all_embs)\n",
    "\n",
    "before_list = df[col_before].astype(str).tolist()\n",
    "after_list  = df[col_after].astype(str).tolist()\n",
    "\n",
    "batch_size = 16\n",
    "emb_before = embed_texts_batched(before_list, batch_size=batch_size)\n",
    "emb_after  = embed_texts_batched(after_list, batch_size=batch_size)\n",
    "\n",
    "# compute cosine similarities row-wise \n",
    "semantic_sims = []\n",
    "for a, b in zip(emb_before, emb_after):\n",
    "    denom = (np.linalg.norm(a) * np.linalg.norm(b))\n",
    "    sim = float(np.dot(a, b) / denom) if denom != 0 else 0.0\n",
    "    semantic_sims.append(sim)\n",
    "\n",
    "df[\"Semantic_Similarity\"] = semantic_sims\n",
    "print(\"Computed Semantic_Similarity (batched). Example:\")\n",
    "df[[\"Semantic_Similarity\"]].head()\n"
   ]
  },
  {
   "cell_type": "code",
   "execution_count": 19,
   "metadata": {
    "execution": {
     "iopub.execute_input": "2025-09-04T16:21:13.871648Z",
     "iopub.status.busy": "2025-09-04T16:21:13.871385Z",
     "iopub.status.idle": "2025-09-04T16:21:45.548512Z",
     "shell.execute_reply": "2025-09-04T16:21:45.547831Z",
     "shell.execute_reply.started": "2025-09-04T16:21:13.871627Z"
    },
    "trusted": true
   },
   "outputs": [],
   "source": [
    "# Compute semantic similarity for each row\n",
    "sims = []\n",
    "for before, after in zip(df[col_before].astype(str), df[col_after].astype(str)):\n",
    "    emb1 = get_embedding([before])[0]\n",
    "    emb2 = get_embedding([after])[0]\n",
    "    sim = float(np.dot(emb1, emb2) / (np.linalg.norm(emb1) * np.linalg.norm(emb2)))\n",
    "    sims.append(sim)\n",
    "df[\"Semantic_Similarity\"] = sims\n"
   ]
  },
  {
   "cell_type": "code",
   "execution_count": 20,
   "metadata": {
    "execution": {
     "iopub.execute_input": "2025-09-04T16:21:45.549562Z",
     "iopub.status.busy": "2025-09-04T16:21:45.549345Z",
     "iopub.status.idle": "2025-09-04T16:21:51.031313Z",
     "shell.execute_reply": "2025-09-04T16:21:51.030678Z",
     "shell.execute_reply.started": "2025-09-04T16:21:45.549544Z"
    },
    "trusted": true
   },
   "outputs": [],
   "source": [
    "# Compute BLEU token similarity for each row\n",
    "bleu = BLEU(effective_order=True)\n",
    "token_sims = []\n",
    "for before, after in zip(df[col_before].astype(str), df[col_after].astype(str)):\n",
    "    score = bleu.sentence_score(after, [before]).score / 100\n",
    "    token_sims.append(score)\n",
    "df[\"Token_Similarity\"] = token_sims\n"
   ]
  },
  {
   "cell_type": "code",
   "execution_count": null,
   "metadata": {
    "execution": {
     "iopub.execute_input": "2025-09-04T16:21:51.032345Z",
     "iopub.status.busy": "2025-09-04T16:21:51.032118Z",
     "iopub.status.idle": "2025-09-04T16:21:51.040561Z",
     "shell.execute_reply": "2025-09-04T16:21:51.039829Z",
     "shell.execute_reply.started": "2025-09-04T16:21:51.032327Z"
    },
    "trusted": true
   },
   "outputs": [],
   "source": [
    "# Classification into major/minor and agreement check\n",
    "df[\"Semantic_Class\"] = df[\"Semantic_Similarity\"].apply(lambda x: \"Minor\" if x >= 0.80 else \"Major\")\n",
    "df[\"Token_Class\"] = df[\"Token_Similarity\"].apply(lambda x: \"Minor\" if x >= 0.75 else \"Major\")\n",
    "df[\"Classes_Agree\"] = np.where(df[\"Semantic_Class\"] == df[\"Token_Class\"], \"YES\", \"NO\")"
   ]
  },
  {
   "cell_type": "code",
   "execution_count": null,
   "metadata": {
    "execution": {
     "iopub.execute_input": "2025-09-04T16:21:51.041666Z",
     "iopub.status.busy": "2025-09-04T16:21:51.041428Z",
     "iopub.status.idle": "2025-09-04T16:21:51.307101Z",
     "shell.execute_reply": "2025-09-04T16:21:51.306456Z",
     "shell.execute_reply.started": "2025-09-04T16:21:51.041648Z"
    },
    "trusted": true
   },
   "outputs": [
    {
     "name": "stdout",
     "output_type": "stream",
     "text": [
      "Saved lab3_output.csv with new metrics and classifications\n"
     ]
    }
   ],
   "source": [
    "# Save the enriched dataset\n",
    "df.to_csv(\"lab3_output.csv\", index=False)\n",
    "print(\"Saved lab3_output.csv with new metrics and classifications\")"
   ]
  },
  {
   "cell_type": "code",
   "execution_count": null,
   "metadata": {
    "execution": {
     "iopub.execute_input": "2025-09-04T16:21:51.308395Z",
     "iopub.status.busy": "2025-09-04T16:21:51.308166Z",
     "iopub.status.idle": "2025-09-04T16:21:51.319881Z",
     "shell.execute_reply": "2025-09-04T16:21:51.318838Z",
     "shell.execute_reply.started": "2025-09-04T16:21:51.308367Z"
    },
    "trusted": true
   },
   "outputs": [
    {
     "name": "stdout",
     "output_type": "stream",
     "text": [
      "Number of conflicts: 31\n",
      "                                            #               Filename  \\\n",
      "47   8c864953a4620b89a285bac043669b23c36b2c5e    reraise_impl_py3.py   \n",
      "121  c2587d2bb76c3ab1b882872328caf89a76fd0b36      bipedal_walker.py   \n",
      "122  c2587d2bb76c3ab1b882872328caf89a76fd0b36        lunar_lander.py   \n",
      "133  7371debe38da7f6dc2c1403528db6e42e7238706            __init__.py   \n",
      "172  58e6aa95e5af2c738557431f812abb81c505a7cf       configuration.py   \n",
      "266  aff7a643cc67c7c7a3a9d9a705dda803072807d7            controls.md   \n",
      "267  aff7a643cc67c7c7a3a9d9a705dda803072807d7          doom_basic.py   \n",
      "268  aff7a643cc67c7c7a3a9d9a705dda803072807d7       doom_corridor.py   \n",
      "269  aff7a643cc67c7c7a3a9d9a705dda803072807d7     doom_deathmatch.py   \n",
      "270  aff7a643cc67c7c7a3a9d9a705dda803072807d7  doom_defend_center.py   \n",
      "\n",
      "     Semantic_Similarity  Token_Similarity Semantic_Class Token_Class  \n",
      "47              0.962625          0.332727          Minor       Major  \n",
      "121             0.989622          0.722439          Minor       Major  \n",
      "122             0.985081          0.723625          Minor       Major  \n",
      "133             0.965573          0.367879          Minor       Major  \n",
      "172             0.993140          0.233557          Minor       Major  \n",
      "266             0.982224          0.649669          Minor       Major  \n",
      "267             0.998559          0.335720          Minor       Major  \n",
      "268             0.998942          0.393749          Minor       Major  \n",
      "269             0.989107          0.198274          Minor       Major  \n",
      "270             0.998665          0.348247          Minor       Major  \n"
     ]
    }
   ],
   "source": [
    "# Simple report of conflicting cases\n",
    "conflicts = df[df[\"Classes_Agree\"] == \"NO\"]\n",
    "print(\"Number of conflicts:\", len(conflicts))\n",
    "print(conflicts[[col_commit, col_file, \"Semantic_Similarity\", \"Token_Similarity\", \"Semantic_Class\", \"Token_Class\"]].head(10))"
   ]
  },
  {
   "cell_type": "code",
   "execution_count": 24,
   "metadata": {
    "execution": {
     "iopub.execute_input": "2025-09-04T16:21:51.321031Z",
     "iopub.status.busy": "2025-09-04T16:21:51.320728Z",
     "iopub.status.idle": "2025-09-04T16:21:51.341350Z",
     "shell.execute_reply": "2025-09-04T16:21:51.340735Z",
     "shell.execute_reply.started": "2025-09-04T16:21:51.320996Z"
    },
    "trusted": true
   },
   "outputs": [
    {
     "name": "stdout",
     "output_type": "stream",
     "text": [
      "Sample rows with key columns:\n"
     ]
    },
    {
     "name": "stderr",
     "output_type": "stream",
     "text": [
      "/usr/local/lib/python3.11/dist-packages/pandas/io/formats/format.py:1458: RuntimeWarning: invalid value encountered in greater\n",
      "  has_large_values = (abs_vals > 1e6).any()\n",
      "/usr/local/lib/python3.11/dist-packages/pandas/io/formats/format.py:1459: RuntimeWarning: invalid value encountered in less\n",
      "  has_small_values = ((abs_vals < 10 ** (-self.digits)) & (abs_vals > 0)).any()\n",
      "/usr/local/lib/python3.11/dist-packages/pandas/io/formats/format.py:1459: RuntimeWarning: invalid value encountered in greater\n",
      "  has_small_values = ((abs_vals < 10 ** (-self.digits)) & (abs_vals > 0)).any()\n"
     ]
    },
    {
     "data": {
      "text/html": [
       "<div>\n",
       "<style scoped>\n",
       "    .dataframe tbody tr th:only-of-type {\n",
       "        vertical-align: middle;\n",
       "    }\n",
       "\n",
       "    .dataframe tbody tr th {\n",
       "        vertical-align: top;\n",
       "    }\n",
       "\n",
       "    .dataframe thead th {\n",
       "        text-align: right;\n",
       "    }\n",
       "</style>\n",
       "<table border=\"1\" class=\"dataframe\">\n",
       "  <thead>\n",
       "    <tr style=\"text-align: right;\">\n",
       "      <th></th>\n",
       "      <th>#</th>\n",
       "      <th>Filename</th>\n",
       "      <th>MI_Change</th>\n",
       "      <th>CC_Change</th>\n",
       "      <th>LOC_Change</th>\n",
       "      <th>Semantic_Similarity</th>\n",
       "    </tr>\n",
       "  </thead>\n",
       "  <tbody>\n",
       "    <tr>\n",
       "      <th>0</th>\n",
       "      <td>c02a213f8ea8d8873e8045a089fae4ac2637b8b4</td>\n",
       "      <td>scoring.py</td>\n",
       "      <td>0.302534</td>\n",
       "      <td>0.0</td>\n",
       "      <td>0.0</td>\n",
       "      <td>0.999688</td>\n",
       "    </tr>\n",
       "    <tr>\n",
       "      <th>1</th>\n",
       "      <td>1c816c9fe4c6cf3986890f0a19142bb3c3b08a8f</td>\n",
       "      <td>scoring.py</td>\n",
       "      <td>0.302534</td>\n",
       "      <td>0.0</td>\n",
       "      <td>0.0</td>\n",
       "      <td>0.999688</td>\n",
       "    </tr>\n",
       "    <tr>\n",
       "      <th>2</th>\n",
       "      <td>2c0b6cfbad8cd8a8067a50c3e15279e4d699d0bd</td>\n",
       "      <td>README.rst</td>\n",
       "      <td>NaN</td>\n",
       "      <td>NaN</td>\n",
       "      <td>NaN</td>\n",
       "      <td>0.999963</td>\n",
       "    </tr>\n",
       "    <tr>\n",
       "      <th>3</th>\n",
       "      <td>fa61141a57676b11cab3b0df135fa6898b97abac</td>\n",
       "      <td>rendering.py</td>\n",
       "      <td>-0.334417</td>\n",
       "      <td>0.0</td>\n",
       "      <td>4.0</td>\n",
       "      <td>0.998060</td>\n",
       "    </tr>\n",
       "    <tr>\n",
       "      <th>4</th>\n",
       "      <td>ed2c3a1fdc36bc60cbe34f94efbb213e942755bb</td>\n",
       "      <td>README.rst</td>\n",
       "      <td>NaN</td>\n",
       "      <td>NaN</td>\n",
       "      <td>NaN</td>\n",
       "      <td>1.000000</td>\n",
       "    </tr>\n",
       "  </tbody>\n",
       "</table>\n",
       "</div>"
      ],
      "text/plain": [
       "                                          #      Filename  MI_Change  \\\n",
       "0  c02a213f8ea8d8873e8045a089fae4ac2637b8b4    scoring.py   0.302534   \n",
       "1  1c816c9fe4c6cf3986890f0a19142bb3c3b08a8f    scoring.py   0.302534   \n",
       "2  2c0b6cfbad8cd8a8067a50c3e15279e4d699d0bd    README.rst        NaN   \n",
       "3  fa61141a57676b11cab3b0df135fa6898b97abac  rendering.py  -0.334417   \n",
       "4  ed2c3a1fdc36bc60cbe34f94efbb213e942755bb    README.rst        NaN   \n",
       "\n",
       "   CC_Change  LOC_Change  Semantic_Similarity  \n",
       "0        0.0         0.0             0.999688  \n",
       "1        0.0         0.0             0.999688  \n",
       "2        NaN         NaN             0.999963  \n",
       "3        0.0         4.0             0.998060  \n",
       "4        NaN         NaN             1.000000  "
      ]
     },
     "execution_count": 24,
     "metadata": {},
     "output_type": "execute_result"
    }
   ],
   "source": [
    "# quick check to ensure similarity columns were added correctly\n",
    "print(\"Sample rows with key columns:\")\n",
    "df[[col_commit, col_file, \"MI_Change\", \"CC_Change\", \"LOC_Change\", \"Semantic_Similarity\"]].head()"
   ]
  },
  {
   "cell_type": "code",
   "execution_count": 25,
   "metadata": {
    "execution": {
     "iopub.execute_input": "2025-09-04T16:21:51.342382Z",
     "iopub.status.busy": "2025-09-04T16:21:51.342082Z",
     "iopub.status.idle": "2025-09-04T16:21:51.351474Z",
     "shell.execute_reply": "2025-09-04T16:21:51.350836Z",
     "shell.execute_reply.started": "2025-09-04T16:21:51.342365Z"
    },
    "trusted": true
   },
   "outputs": [
    {
     "name": "stdout",
     "output_type": "stream",
     "text": [
      "Extension\n",
      "py                   403\n",
      "cfg                   13\n",
      "rst                   11\n",
      "yml                    8\n",
      "json                   6\n",
      "gitignore              2\n",
      "benchmark_runner       2\n",
      "dockerfile             2\n",
      "md                     2\n",
      "play_go                1\n",
      "project                1\n",
      "pydevproject           1\n",
      "docker_entrypoint      1\n",
      "upload                 1\n",
      "Name: count, dtype: int64\n"
     ]
    }
   ],
   "source": [
    "df[\"Extension\"] = df[\"Filename\"].apply(lambda x: str(x).split(\".\")[-1])\n",
    "print(df[\"Extension\"].value_counts())"
   ]
  },
  {
   "cell_type": "code",
   "execution_count": 26,
   "metadata": {
    "execution": {
     "iopub.execute_input": "2025-09-04T16:21:51.353752Z",
     "iopub.status.busy": "2025-09-04T16:21:51.352701Z",
     "iopub.status.idle": "2025-09-04T16:21:51.364473Z",
     "shell.execute_reply": "2025-09-04T16:21:51.363804Z",
     "shell.execute_reply.started": "2025-09-04T16:21:51.353729Z"
    },
    "trusted": true
   },
   "outputs": [
    {
     "name": "stdout",
     "output_type": "stream",
     "text": [
      "Sample BEFORE code:\n",
      " \"\"\"This is the actual code we use to score people's solutions\n",
      "server-side. The interfaces here are not yet stable, but we include\n",
      "them so that people can reproduce our scoring calculations\n",
      "independently.\n",
      "\n",
      "We correspondly do not currently import this module.\n",
      "\"\"\"\n",
      "\n",
      "import numpy as np\n",
      "import requests\n",
      "\n",
      "import gym\n",
      "\n",
      "def score_from_remote(url):\n",
      "    result = requests.get(url)\n",
      "    parsed = result.json()\n",
      "    episode_lengths = parsed['episode_lengths']\n",
      "    episode_rewards = parsed['episode_rewards']\n",
      "    tim\n",
      "\n",
      "Sample AFTER code:\n",
      " \"\"\"This is the actual code we use to score people's solutions\n",
      "server-side. The interfaces here are not yet stable, but we include\n",
      "them so that people can reproduce our scoring calculations\n",
      "independently.\n",
      "\n",
      "We correspondly do not currently import this module.\n",
      "\"\"\"\n",
      "\n",
      "import numpy as np\n",
      "import requests\n",
      "\n",
      "import gym\n",
      "\n",
      "def score_from_remote(url):\n",
      "    result = requests.get(url)\n",
      "    parsed = result.json()\n",
      "    episode_lengths = parsed['episode_lengths']\n",
      "    episode_rewards = parsed['episode_rewards']\n",
      "    tim\n"
     ]
    }
   ],
   "source": [
    "print(\"Sample BEFORE code:\\n\", df[col_before].dropna().iloc[0][:500])\n",
    "print(\"\\nSample AFTER code:\\n\", df[col_after].dropna().iloc[0][:500])"
   ]
  },
  {
   "cell_type": "code",
   "execution_count": 27,
   "metadata": {
    "execution": {
     "iopub.execute_input": "2025-09-04T16:21:51.365394Z",
     "iopub.status.busy": "2025-09-04T16:21:51.365175Z",
     "iopub.status.idle": "2025-09-04T16:21:51.379034Z",
     "shell.execute_reply": "2025-09-04T16:21:51.378156Z",
     "shell.execute_reply.started": "2025-09-04T16:21:51.365375Z"
    },
    "trusted": true
   },
   "outputs": [
    {
     "name": "stdout",
     "output_type": "stream",
     "text": [
      "Percentage of NaN values in radon metrics (before/after):\n",
      "MI_Before     10.13\n",
      "CC_Before     10.13\n",
      "LOC_Before    10.13\n",
      "MI_After       8.81\n",
      "CC_After       8.81\n",
      "LOC_After      8.81\n",
      "dtype: float64\n"
     ]
    }
   ],
   "source": [
    "nan_report = df[[\"MI_Before\", \"CC_Before\", \"LOC_Before\",\n",
    "                 \"MI_After\", \"CC_After\", \"LOC_After\"]].isna().mean() * 100\n",
    "\n",
    "print(\"Percentage of NaN values in radon metrics (before/after):\")\n",
    "print(nan_report.round(2))"
   ]
  },
  {
   "cell_type": "code",
   "execution_count": null,
   "metadata": {
    "execution": {
     "iopub.execute_input": "2025-09-04T16:21:51.380230Z",
     "iopub.status.busy": "2025-09-04T16:21:51.380021Z",
     "iopub.status.idle": "2025-09-04T16:21:51.401194Z",
     "shell.execute_reply": "2025-09-04T16:21:51.400410Z",
     "shell.execute_reply.started": "2025-09-04T16:21:51.380213Z"
    },
    "trusted": true
   },
   "outputs": [
    {
     "name": "stdout",
     "output_type": "stream",
     "text": [
      "Semantic_Similarity — mean / median / std:\n",
      "mean    0.977567\n",
      "50%     0.999929\n",
      "std     0.077067\n",
      "Name: Semantic_Similarity, dtype: float64\n",
      "\n",
      "Token_Similarity — mean / median / std:\n",
      "mean    0.854443\n",
      "50%     0.975680\n",
      "std     0.279867\n",
      "Name: Token_Similarity, dtype: float64\n",
      "\n",
      "MI_Change mean: -1.014899453942111 CC_Change mean: 0.10266621223867424 LOC_Change mean: 13.125\n"
     ]
    }
   ],
   "source": [
    "# summary stats\n",
    "print(\"Semantic_Similarity — mean / median / std:\")\n",
    "print(df[\"Semantic_Similarity\"].describe().loc[[\"mean\", \"50%\", \"std\"]])\n",
    "print(\"\\nToken_Similarity — mean / median / std:\")\n",
    "print(df[\"Token_Similarity\"].describe().loc[[\"mean\", \"50%\", \"std\"]])\n",
    "print(\"\\nMI_Change mean:\", df[\"MI_Change\"].mean(), \"CC_Change mean:\", df[\"CC_Change\"].mean(), \"LOC_Change mean:\", df[\"LOC_Change\"].mean())"
   ]
  },
  {
   "cell_type": "code",
   "execution_count": 29,
   "metadata": {
    "execution": {
     "iopub.execute_input": "2025-09-04T16:21:51.402146Z",
     "iopub.status.busy": "2025-09-04T16:21:51.401953Z",
     "iopub.status.idle": "2025-09-04T16:21:51.843089Z",
     "shell.execute_reply": "2025-09-04T16:21:51.842350Z",
     "shell.execute_reply.started": "2025-09-04T16:21:51.402131Z"
    },
    "trusted": true
   },
   "outputs": [
    {
     "data": {
      "image/png": "[encoded data removed]",
      "text/plain": [
       "<Figure size 640x480 with 1 Axes>"
      ]
     },
     "metadata": {},
     "output_type": "display_data"
    },
    {
     "data": {
      "image/png": "[encoded data removed]",
      "text/plain": [
       "<Figure size 640x480 with 1 Axes>"
      ]
     },
     "metadata": {},
     "output_type": "display_data"
    }
   ],
   "source": [
    "# plot histograms for semantic and token similarity distributions\n",
    "import matplotlib.pyplot as plt\n",
    "\n",
    "# Semantic similarity histogram\n",
    "plt.figure()\n",
    "plt.hist(df[\"Semantic_Similarity\"].dropna(), bins=25)\n",
    "plt.title(\"Semantic Similarity Distribution\")\n",
    "plt.xlabel(\"Cosine similarity\")\n",
    "plt.ylabel(\"Count\")\n",
    "plt.show()\n",
    "\n",
    "# Token similarity histogram\n",
    "plt.figure()\n",
    "plt.hist(df[\"Token_Similarity\"].dropna(), bins=25)\n",
    "plt.title(\"Token (BLEU) Similarity Distribution\")\n",
    "plt.xlabel(\"BLEU (0-1)\")\n",
    "plt.ylabel(\"Count\")\n",
    "plt.show()\n"
   ]
  },
  {
   "cell_type": "code",
   "execution_count": 30,
   "metadata": {
    "execution": {
     "iopub.execute_input": "2025-09-04T16:21:51.844072Z",
     "iopub.status.busy": "2025-09-04T16:21:51.843829Z",
     "iopub.status.idle": "2025-09-04T16:21:52.043861Z",
     "shell.execute_reply": "2025-09-04T16:21:52.043041Z",
     "shell.execute_reply.started": "2025-09-04T16:21:51.844033Z"
    },
    "trusted": true
   },
   "outputs": [
    {
     "data": {
      "image/png": "[encoded data removed]",
      "text/plain": [
       "<Figure size 640x480 with 1 Axes>"
      ]
     },
     "metadata": {},
     "output_type": "display_data"
    },
    {
     "name": "stdout",
     "output_type": "stream",
     "text": [
      "Agreement rate: 93.17%\n"
     ]
    }
   ],
   "source": [
    "# simple bar chart: agreement counts (YES / NO) and percent\n",
    "import matplotlib.pyplot as plt\n",
    "\n",
    "counts = df[\"Classes_Agree\"].value_counts()\n",
    "counts.plot(kind=\"bar\")\n",
    "plt.title(\"Agreement between Semantic and Token Classification\")\n",
    "plt.xlabel(\"Agreement\")\n",
    "plt.ylabel(\"Count\")\n",
    "plt.show()\n",
    "\n",
    "# print agreement rate\n",
    "agree_rate = (df[\"Classes_Agree\"] == \"YES\").mean()\n",
    "print(f\"Agreement rate: {agree_rate*100:.2f}%\")\n"
   ]
  }
 ],
 "metadata": {
  "kaggle": {
   "accelerator": "nvidiaTeslaT4",
   "dataSources": [
    {
     "datasetId": 8202280,
     "sourceId": 12960263,
     "sourceType": "datasetVersion"
    }
   ],
   "dockerImageVersionId": 31090,
   "isGpuEnabled": true,
   "isInternetEnabled": true,
   "language": "python",
   "sourceType": "notebook"
  },
  "kernelspec": {
   "display_name": "Python 3",
   "language": "python",
   "name": "python3"
  },
  "language_info": {
   "codemirror_mode": {
    "name": "ipython",
    "version": 3
   },
   "file_extension": ".py",
   "mimetype": "text/x-python",
   "name": "python",
   "nbconvert_exporter": "python",
   "pygments_lexer": "ipython3",
   "version": "3.11.13"
  }
 },
 "nbformat": 4,
 "nbformat_minor": 4
}
