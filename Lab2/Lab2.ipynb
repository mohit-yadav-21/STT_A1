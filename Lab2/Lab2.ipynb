{
 "cells": [
  {
   "cell_type": "code",
   "execution_count": 2,
   "metadata": {
    "_cell_guid": "b1076dfc-b9ad-4769-8c92-a6c4dae69d19",
    "_uuid": "8f2839f25d086af736a60e9eeb907d3b93b6e0e5",
    "execution": {
     "iopub.execute_input": "2025-09-04T07:50:28.776445Z",
     "iopub.status.busy": "2025-09-04T07:50:28.775988Z",
     "iopub.status.idle": "2025-09-04T07:50:33.109095Z",
     "shell.execute_reply": "2025-09-04T07:50:33.107337Z",
     "shell.execute_reply.started": "2025-09-04T07:50:28.776395Z"
    },
    "trusted": true
   },
   "outputs": [],
   "source": [
    "# Install required packages\n",
    "!pip install pydriller transformers pandas -q\n"
   ]
  },
  {
   "cell_type": "code",
   "execution_count": 3,
   "metadata": {
    "execution": {
     "iopub.execute_input": "2025-09-04T07:50:33.112014Z",
     "iopub.status.busy": "2025-09-04T07:50:33.111606Z",
     "iopub.status.idle": "2025-09-04T07:50:43.681909Z",
     "shell.execute_reply": "2025-09-04T07:50:43.680862Z",
     "shell.execute_reply.started": "2025-09-04T07:50:33.111973Z"
    },
    "trusted": true
   },
   "outputs": [],
   "source": [
    "# Import libraries\n",
    "import os, re, csv\n",
    "from pydriller import Repository\n",
    "import torch\n",
    "from transformers import AutoTokenizer, AutoModelForSeq2SeqLM\n",
    "import matplotlib.pyplot as plt\n",
    "import pandas as pd"
   ]
  },
  {
   "cell_type": "code",
   "execution_count": null,
   "metadata": {
    "execution": {
     "iopub.execute_input": "2025-09-04T07:50:43.683712Z",
     "iopub.status.busy": "2025-09-04T07:50:43.683059Z",
     "iopub.status.idle": "2025-09-04T07:50:43.694317Z",
     "shell.execute_reply": "2025-09-04T07:50:43.693157Z",
     "shell.execute_reply.started": "2025-09-04T07:50:43.683684Z"
    },
    "trusted": true
   },
   "outputs": [],
   "source": [
    "# Define repo, paths, and settings\n",
    "REPO_URL = \"https://github.com/openai/gym.git\"\n",
    "REPO_DIR = \"/kaggle/working/gym\"\n",
    "OUT_DIR  = \"/kaggle/working/lab2_output\"\n",
    "os.makedirs(OUT_DIR, exist_ok=True)\n",
    "\n",
    "COMMIT_CSV = os.path.join(OUT_DIR, \"bug_fix_commits.csv\")\n",
    "DIFF_CSV   = os.path.join(OUT_DIR, \"diff_analysis.csv\")\n",
    "\n",
    "MODEL_ID = \"mamiksik/CommitPredictorT5\"\n",
    "device = torch.device(\"cuda\" if torch.cuda.is_available() else \"cpu\")\n",
    "\n",
    "COLORS = {\"dev\":\"#ff8c00\",\"llm\":\"#2e8b57\",\"rect\":\"#c19a6b\"}"
   ]
  },
  {
   "cell_type": "code",
   "execution_count": null,
   "metadata": {
    "execution": {
     "iopub.execute_input": "2025-09-04T07:50:43.697937Z",
     "iopub.status.busy": "2025-09-04T07:50:43.697550Z",
     "iopub.status.idle": "2025-09-04T07:50:45.187855Z",
     "shell.execute_reply": "2025-09-04T07:50:45.186107Z",
     "shell.execute_reply.started": "2025-09-04T07:50:43.697910Z"
    },
    "trusted": true
   },
   "outputs": [],
   "source": [
    "# Clone or update the repo\n",
    "if not os.path.exists(REPO_DIR):\n",
    "    !git clone {REPO_URL} {REPO_DIR} -q\n",
    "else:\n",
    "    !cd {REPO_DIR} && git pull -q"
   ]
  },
  {
   "cell_type": "code",
   "execution_count": null,
   "metadata": {
    "execution": {
     "iopub.execute_input": "2025-09-04T07:50:45.190017Z",
     "iopub.status.busy": "2025-09-04T07:50:45.189582Z",
     "iopub.status.idle": "2025-09-04T07:51:18.493731Z",
     "shell.execute_reply": "2025-09-04T07:51:18.492749Z",
     "shell.execute_reply.started": "2025-09-04T07:50:45.189964Z"
    },
    "trusted": true
   },
   "outputs": [
    {
     "data": {
      "application/vnd.jupyter.widget-view+json": {
       "model_id": "061e6b424efc4c388fc31b48200d62e4",
       "version_major": 2,
       "version_minor": 0
      },
      "text/plain": [
       "tokenizer_config.json: 0.00B [00:00, ?B/s]"
      ]
     },
     "metadata": {},
     "output_type": "display_data"
    },
    {
     "data": {
      "application/vnd.jupyter.widget-view+json": {
       "model_id": "225c00c90ee84ce48698f31ba03e5d41",
       "version_major": 2,
       "version_minor": 0
      },
      "text/plain": [
       "vocab.json: 0.00B [00:00, ?B/s]"
      ]
     },
     "metadata": {},
     "output_type": "display_data"
    },
    {
     "data": {
      "application/vnd.jupyter.widget-view+json": {
       "model_id": "356c3fee4372434f9e97dfae304d0b0f",
       "version_major": 2,
       "version_minor": 0
      },
      "text/plain": [
       "merges.txt: 0.00B [00:00, ?B/s]"
      ]
     },
     "metadata": {},
     "output_type": "display_data"
    },
    {
     "data": {
      "application/vnd.jupyter.widget-view+json": {
       "model_id": "54011dfe7abc4e078784fdcacc465d76",
       "version_major": 2,
       "version_minor": 0
      },
      "text/plain": [
       "added_tokens.json:   0%|          | 0.00/57.0 [00:00<?, ?B/s]"
      ]
     },
     "metadata": {},
     "output_type": "display_data"
    },
    {
     "data": {
      "application/vnd.jupyter.widget-view+json": {
       "model_id": "8d61d05447024861bfff8bb9f07860f2",
       "version_major": 2,
       "version_minor": 0
      },
      "text/plain": [
       "special_tokens_map.json: 0.00B [00:00, ?B/s]"
      ]
     },
     "metadata": {},
     "output_type": "display_data"
    },
    {
     "data": {
      "application/vnd.jupyter.widget-view+json": {
       "model_id": "268f08a47f344824a8dd6094244e7503",
       "version_major": 2,
       "version_minor": 0
      },
      "text/plain": [
       "config.json: 0.00B [00:00, ?B/s]"
      ]
     },
     "metadata": {},
     "output_type": "display_data"
    },
    {
     "name": "stderr",
     "output_type": "stream",
     "text": [
      "2025-09-04 07:50:54.170663: E external/local_xla/xla/stream_executor/cuda/cuda_fft.cc:477] Unable to register cuFFT factory: Attempting to register factory for plugin cuFFT when one has already been registered\n",
      "WARNING: All log messages before absl::InitializeLog() is called are written to STDERR\n",
      "E0000 00:00:1756972254.368546      36 cuda_dnn.cc:8310] Unable to register cuDNN factory: Attempting to register factory for plugin cuDNN when one has already been registered\n",
      "E0000 00:00:1756972254.423228      36 cuda_blas.cc:1418] Unable to register cuBLAS factory: Attempting to register factory for plugin cuBLAS when one has already been registered\n"
     ]
    },
    {
     "data": {
      "application/vnd.jupyter.widget-view+json": {
       "model_id": "6285387f08114a888a4031a0a7ea03ff",
       "version_major": 2,
       "version_minor": 0
      },
      "text/plain": [
       "pytorch_model.bin:   0%|          | 0.00/892M [00:00<?, ?B/s]"
      ]
     },
     "metadata": {},
     "output_type": "display_data"
    },
    {
     "data": {
      "application/vnd.jupyter.widget-view+json": {
       "model_id": "4b066800707c4bdd9ad7b6f66078a1b7",
       "version_major": 2,
       "version_minor": 0
      },
      "text/plain": [
       "model.safetensors:   0%|          | 0.00/892M [00:00<?, ?B/s]"
      ]
     },
     "metadata": {},
     "output_type": "display_data"
    }
   ],
   "source": [
    "# Load model and tokenizer\n",
    "tokenizer = AutoTokenizer.from_pretrained(MODEL_ID)\n",
    "model = AutoModelForSeq2SeqLM.from_pretrained(MODEL_ID).to(device)\n",
    "\n",
    "def llm_message(diff):\n",
    "    if not diff:\n",
    "        return \"\"\n",
    "    enc = tokenizer(diff, return_tensors=\"pt\", truncation=True, max_length=512).to(device)\n",
    "    out = model.generate(**enc, max_new_tokens=40, num_beams=3, early_stopping=True)\n",
    "    return tokenizer.decode(out[0], skip_special_tokens=True).strip()"
   ]
  },
  {
   "cell_type": "code",
   "execution_count": null,
   "metadata": {
    "execution": {
     "iopub.execute_input": "2025-09-04T07:51:18.495456Z",
     "iopub.status.busy": "2025-09-04T07:51:18.494801Z",
     "iopub.status.idle": "2025-09-04T07:51:18.503356Z",
     "shell.execute_reply": "2025-09-04T07:51:18.502108Z",
     "shell.execute_reply.started": "2025-09-04T07:51:18.495419Z"
    },
    "trusted": true
   },
   "outputs": [],
   "source": [
    "# Rectifier function with threshold=10\n",
    "GENERIC = re.compile(r\"\\b(update|change|modify|misc|stuff|minor|some|necessary)\\b\", re.I)\n",
    "ACTION  = re.compile(r\"\\b(fix|resolve|handle|prevent|patch|correct|sanitize)\\b\", re.I)\n",
    "\n",
    "def choose_message(dev_msg, llm_msg, threshold=10):\n",
    "    d = (dev_msg or \"\").strip()\n",
    "    l = (llm_msg or \"\").strip()\n",
    "    d_len, l_len = len(d.split()), len(l.split())\n",
    "    if d_len < 3 and l_len < 3: return \"rectify\"\n",
    "    if d and GENERIC.search(d): return \"rectify\"\n",
    "    if d_len >= threshold and d_len >= l_len: return \"dev\"\n",
    "    if l_len >= threshold and l_len > d_len: return \"llm\"\n",
    "    if ACTION.search(d) and not ACTION.search(l): return \"dev\"\n",
    "    if ACTION.search(l) and not ACTION.search(d): return \"llm\"\n",
    "    if d_len > l_len and d_len > 3: return \"dev\"\n",
    "    if l_len > 3: return \"llm\"\n",
    "    return \"rectify\""
   ]
  },
  {
   "cell_type": "code",
   "execution_count": null,
   "metadata": {
    "execution": {
     "iopub.execute_input": "2025-09-04T07:51:18.507539Z",
     "iopub.status.busy": "2025-09-04T07:51:18.504630Z",
     "iopub.status.idle": "2025-09-04T07:51:18.702991Z",
     "shell.execute_reply": "2025-09-04T07:51:18.702023Z",
     "shell.execute_reply.started": "2025-09-04T07:51:18.507500Z"
    },
    "trusted": true
   },
   "outputs": [],
   "source": [
    "\n",
    "BUG_PATTERN = re.compile(\n",
    "    r\"\\b(\"\n",
    "    r\"fix(e[sd]?|ing)?|\"          # fix, fixed, fixes, fixing\n",
    "    r\"bug(s)?|typo(s)?|\"          # bug, bugs, typo, typos\n",
    "    r\"error(s)?|erroneous|\"       # error, errors, erroneous\n",
    "    r\"issue(s)?|ticket(s)?|\"      # issue, issues, tickets\n",
    "    r\"patch(ed|es|ing)?|\"         # patch, patched, patches, patching\n",
    "    r\"hotfix|\"                    # hotfix\n",
    "    r\"correct(ed|ion)?|\"          # correct, corrected, correction\n",
    "    r\"resolv(e[sd]?|ing)?|\"       # resolve, resolved, resolving\n",
    "    r\"repair(ed|s|ing)?|\"         # repair\n",
    "    r\"workaround|\"                # workaround\n",
    "    r\"handle(d|s|ing)?|\"          # handle, handled\n",
    "    r\"prevent(ed|s|ing)?|\"        # prevent\n",
    "    r\"crash(es|ed|ing)?|\"         # crash, crashed\n",
    "    r\"fail(ed|ure|s)?|\"           # fail, failed, failure, fails\n",
    "    r\"exception(s)?|\"             # exception, exceptions\n",
    "    r\"conflict(s)?|\"              # conflict, conflicts\n",
    "    r\"problem(s)?\"                # problem, problems\n",
    "    r\")\\b\",\n",
    "    re.IGNORECASE\n",
    ")"
   ]
  },
  {
   "cell_type": "code",
   "execution_count": null,
   "metadata": {
    "execution": {
     "iopub.execute_input": "2025-09-04T07:51:18.704454Z",
     "iopub.status.busy": "2025-09-04T07:51:18.704127Z",
     "iopub.status.idle": "2025-09-04T07:51:23.477849Z",
     "shell.execute_reply": "2025-09-04T07:51:23.472834Z",
     "shell.execute_reply.started": "2025-09-04T07:51:18.704425Z"
    },
    "trusted": true
   },
   "outputs": [
    {
     "name": "stdout",
     "output_type": "stream",
     "text": [
      "Collected bug-fix commits: 200\n"
     ]
    }
   ],
   "source": [
    "# Collect bug-fix commits\n",
    "commits = []\n",
    "for c in Repository(REPO_DIR).traverse_commits():\n",
    "    if BUG_PATTERN.search(c.msg or \"\"):\n",
    "        parent = c.parents[0] if c.parents else \"\"\n",
    "        files = []\n",
    "        for mf in getattr(c, \"modified_files\", []):\n",
    "            name = getattr(mf, \"filename\", None) or getattr(mf, \"new_path\", None) or getattr(mf, \"old_path\", None) or \"\"\n",
    "            files.append(name)\n",
    "        commits.append({\"hash\":c.hash,\"msg\":c.msg,\"parent\":parent,\"merge\":int(c.merge),\"files\":files,\"obj\":c})\n",
    "    if len(commits) >= 200:\n",
    "        break\n",
    "print(\"Collected bug-fix commits:\", len(commits))"
   ]
  },
  {
   "cell_type": "code",
   "execution_count": null,
   "metadata": {
    "execution": {
     "iopub.execute_input": "2025-09-04T07:51:23.478882Z",
     "iopub.status.busy": "2025-09-04T07:51:23.478541Z",
     "iopub.status.idle": "2025-09-04T07:51:23.513630Z",
     "shell.execute_reply": "2025-09-04T07:51:23.509964Z",
     "shell.execute_reply.started": "2025-09-04T07:51:23.478856Z"
    },
    "trusted": true
   },
   "outputs": [
    {
     "name": "stdout",
     "output_type": "stream",
     "text": [
      "Wrote: /kaggle/working/lab2_output/bug_fix_commits.csv\n"
     ]
    }
   ],
   "source": [
    "# Write commit-level CSV\n",
    "with open(COMMIT_CSV,\"w\",newline=\"\",encoding=\"utf-8\") as f:\n",
    "    w=csv.writer(f)\n",
    "    w.writerow([\"#\",\"Message\",\"Parent #\",\"Merge Commit\",\"Modified Files\"])\n",
    "    for c in commits:\n",
    "        w.writerow([c[\"hash\"],c[\"msg\"],c[\"parent\"],c[\"merge\"],\";\".join([f for f in c[\"files\"] if f])])\n",
    "print(\"Wrote:\",COMMIT_CSV)"
   ]
  },
  {
   "cell_type": "code",
   "execution_count": null,
   "metadata": {
    "execution": {
     "iopub.execute_input": "2025-09-04T07:51:23.517427Z",
     "iopub.status.busy": "2025-09-04T07:51:23.517138Z",
     "iopub.status.idle": "2025-09-04T07:51:24.736350Z",
     "shell.execute_reply": "2025-09-04T07:51:24.735190Z",
     "shell.execute_reply.started": "2025-09-04T07:51:23.517408Z"
    },
    "trusted": true
   },
   "outputs": [
    {
     "data": {
      "text/html": [
       "<div>\n",
       "<style scoped>\n",
       "    .dataframe tbody tr th:only-of-type {\n",
       "        vertical-align: middle;\n",
       "    }\n",
       "\n",
       "    .dataframe tbody tr th {\n",
       "        vertical-align: top;\n",
       "    }\n",
       "\n",
       "    .dataframe thead th {\n",
       "        text-align: right;\n",
       "    }\n",
       "</style>\n",
       "<table border=\"1\" class=\"dataframe\">\n",
       "  <thead>\n",
       "    <tr style=\"text-align: right;\">\n",
       "      <th></th>\n",
       "      <th>#</th>\n",
       "      <th>Message</th>\n",
       "      <th>Parent #</th>\n",
       "      <th>Merge Commit</th>\n",
       "      <th>Modified Files</th>\n",
       "    </tr>\n",
       "  </thead>\n",
       "  <tbody>\n",
       "    <tr>\n",
       "      <th>0</th>\n",
       "      <td>c02a213f8ea8d8873e8045a089fae4ac2637b8b4</td>\n",
       "      <td>scoring.py: Handle entries without initial_res...</td>\n",
       "      <td>bd36a91603d5fe10ae6442ad41d264fabea44a32</td>\n",
       "      <td>0</td>\n",
       "      <td>scoring.py</td>\n",
       "    </tr>\n",
       "    <tr>\n",
       "      <th>1</th>\n",
       "      <td>1c816c9fe4c6cf3986890f0a19142bb3c3b08a8f</td>\n",
       "      <td>scoring.py: Handle entries without initial_res...</td>\n",
       "      <td>f9422ad0c6685ac27d7c76a5655fc7a3739c91e0</td>\n",
       "      <td>0</td>\n",
       "      <td>scoring.py</td>\n",
       "    </tr>\n",
       "    <tr>\n",
       "      <th>2</th>\n",
       "      <td>2c0b6cfbad8cd8a8067a50c3e15279e4d699d0bd</td>\n",
       "      <td>fix typo in cloning installation</td>\n",
       "      <td>a1e0c2519ef12190727c035ebee3a798f8b5d31f</td>\n",
       "      <td>0</td>\n",
       "      <td>README.rst</td>\n",
       "    </tr>\n",
       "    <tr>\n",
       "      <th>3</th>\n",
       "      <td>bcfefce9a091307596752e4585457659a1a19590</td>\n",
       "      <td>Merge pull request #2 from domluna/fix-cloning...</td>\n",
       "      <td>a1e0c2519ef12190727c035ebee3a798f8b5d31f</td>\n",
       "      <td>1</td>\n",
       "      <td>NaN</td>\n",
       "    </tr>\n",
       "    <tr>\n",
       "      <th>4</th>\n",
       "      <td>fa61141a57676b11cab3b0df135fa6898b97abac</td>\n",
       "      <td>Raise a better error for a missing pyglet</td>\n",
       "      <td>bcfefce9a091307596752e4585457659a1a19590</td>\n",
       "      <td>0</td>\n",
       "      <td>rendering.py</td>\n",
       "    </tr>\n",
       "  </tbody>\n",
       "</table>\n",
       "</div>"
      ],
      "text/plain": [
       "                                          #  \\\n",
       "0  c02a213f8ea8d8873e8045a089fae4ac2637b8b4   \n",
       "1  1c816c9fe4c6cf3986890f0a19142bb3c3b08a8f   \n",
       "2  2c0b6cfbad8cd8a8067a50c3e15279e4d699d0bd   \n",
       "3  bcfefce9a091307596752e4585457659a1a19590   \n",
       "4  fa61141a57676b11cab3b0df135fa6898b97abac   \n",
       "\n",
       "                                             Message  \\\n",
       "0  scoring.py: Handle entries without initial_res...   \n",
       "1  scoring.py: Handle entries without initial_res...   \n",
       "2                   fix typo in cloning installation   \n",
       "3  Merge pull request #2 from domluna/fix-cloning...   \n",
       "4          Raise a better error for a missing pyglet   \n",
       "\n",
       "                                   Parent #  Merge Commit Modified Files  \n",
       "0  bd36a91603d5fe10ae6442ad41d264fabea44a32             0     scoring.py  \n",
       "1  f9422ad0c6685ac27d7c76a5655fc7a3739c91e0             0     scoring.py  \n",
       "2  a1e0c2519ef12190727c035ebee3a798f8b5d31f             0     README.rst  \n",
       "3  a1e0c2519ef12190727c035ebee3a798f8b5d31f             1            NaN  \n",
       "4  bcfefce9a091307596752e4585457659a1a19590             0   rendering.py  "
      ]
     },
     "execution_count": 11,
     "metadata": {},
     "output_type": "execute_result"
    }
   ],
   "source": [
    "# Check commit CSV structure using pandas\n",
    "pd.read_csv(COMMIT_CSV).head()"
   ]
  },
  {
   "cell_type": "code",
   "execution_count": null,
   "metadata": {
    "execution": {
     "iopub.execute_input": "2025-09-04T07:51:24.737709Z",
     "iopub.status.busy": "2025-09-04T07:51:24.737370Z",
     "iopub.status.idle": "2025-09-04T08:04:54.251741Z",
     "shell.execute_reply": "2025-09-04T08:04:54.249938Z",
     "shell.execute_reply.started": "2025-09-04T07:51:24.737687Z"
    },
    "trusted": true
   },
   "outputs": [
    {
     "name": "stdout",
     "output_type": "stream",
     "text": [
      "Wrote: /kaggle/working/lab2_output/diff_analysis.csv\n"
     ]
    }
   ],
   "source": [
    "# Write file-level CSV\n",
    "dev_keep=llm_keep=rect_keep=0\n",
    "with open(DIFF_CSV,\"w\",newline=\"\",encoding=\"utf-8\") as f:\n",
    "    w=csv.writer(f)\n",
    "    w.writerow([\"#\",\"Message\",\"Filename\",\"Source Code (before)\",\"Source Code (current)\",\"Diff\",\"Fix Type (LLM)\",\"Rectified Message\"])\n",
    "    for c in commits:\n",
    "        for mf in getattr(c[\"obj\"],\"modified_files\",[]):\n",
    "            fname = getattr(mf,\"filename\",None) or getattr(mf,\"new_path\",None) or getattr(mf,\"old_path\",None) or \"\"\n",
    "            before = getattr(mf,\"source_code_before\",\"\") or \"\"\n",
    "            after  = getattr(mf,\"source_code\",\"\") or \"\"\n",
    "            diff   = getattr(mf,\"diff\",\"\") or \"\"\n",
    "            llm_msg = llm_message(diff) if diff else \"\"\n",
    "            decision = choose_message(c[\"msg\"] or \"\", llm_msg)\n",
    "            if decision==\"dev\": rect=c[\"msg\"]; dev_keep+=1\n",
    "            elif decision==\"llm\": rect=llm_msg; llm_keep+=1\n",
    "            else:\n",
    "                rect = f\"{c['msg']}; {llm_msg}\" if c[\"msg\"] and llm_msg else (c[\"msg\"] or llm_msg)\n",
    "                rect_keep+=1\n",
    "            w.writerow([c[\"hash\"],c[\"msg\"],fname,before,after,diff,llm_msg,rect])\n",
    "print(\"Wrote:\",DIFF_CSV)"
   ]
  },
  {
   "cell_type": "code",
   "execution_count": 13,
   "metadata": {
    "execution": {
     "iopub.execute_input": "2025-09-04T08:04:54.255423Z",
     "iopub.status.busy": "2025-09-04T08:04:54.253965Z",
     "iopub.status.idle": "2025-09-04T08:04:54.377180Z",
     "shell.execute_reply": "2025-09-04T08:04:54.376013Z",
     "shell.execute_reply.started": "2025-09-04T08:04:54.255345Z"
    },
    "trusted": true
   },
   "outputs": [
    {
     "data": {
      "text/html": [
       "<div>\n",
       "<style scoped>\n",
       "    .dataframe tbody tr th:only-of-type {\n",
       "        vertical-align: middle;\n",
       "    }\n",
       "\n",
       "    .dataframe tbody tr th {\n",
       "        vertical-align: top;\n",
       "    }\n",
       "\n",
       "    .dataframe thead th {\n",
       "        text-align: right;\n",
       "    }\n",
       "</style>\n",
       "<table border=\"1\" class=\"dataframe\">\n",
       "  <thead>\n",
       "    <tr style=\"text-align: right;\">\n",
       "      <th></th>\n",
       "      <th>#</th>\n",
       "      <th>Message</th>\n",
       "      <th>Filename</th>\n",
       "      <th>Source Code (before)</th>\n",
       "      <th>Source Code (current)</th>\n",
       "      <th>Diff</th>\n",
       "      <th>Fix Type (LLM)</th>\n",
       "      <th>Rectified Message</th>\n",
       "    </tr>\n",
       "  </thead>\n",
       "  <tbody>\n",
       "    <tr>\n",
       "      <th>0</th>\n",
       "      <td>c02a213f8ea8d8873e8045a089fae4ac2637b8b4</td>\n",
       "      <td>scoring.py: Handle entries without initial_res...</td>\n",
       "      <td>scoring.py</td>\n",
       "      <td>\"\"\"This is the actual code we use to score peo...</td>\n",
       "      <td>\"\"\"This is the actual code we use to score peo...</td>\n",
       "      <td>@@ -17,7 +17,8 @@ def score_from_remote(url):\\...</td>\n",
       "      <td>fix bug in score_from_remote</td>\n",
       "      <td>scoring.py: Handle entries without initial_res...</td>\n",
       "    </tr>\n",
       "    <tr>\n",
       "      <th>1</th>\n",
       "      <td>1c816c9fe4c6cf3986890f0a19142bb3c3b08a8f</td>\n",
       "      <td>scoring.py: Handle entries without initial_res...</td>\n",
       "      <td>scoring.py</td>\n",
       "      <td>\"\"\"This is the actual code we use to score peo...</td>\n",
       "      <td>\"\"\"This is the actual code we use to score peo...</td>\n",
       "      <td>@@ -17,7 +17,8 @@ def score_from_remote(url):\\...</td>\n",
       "      <td>fix bug in score_from_remote</td>\n",
       "      <td>scoring.py: Handle entries without initial_res...</td>\n",
       "    </tr>\n",
       "    <tr>\n",
       "      <th>2</th>\n",
       "      <td>2c0b6cfbad8cd8a8067a50c3e15279e4d699d0bd</td>\n",
       "      <td>fix typo in cloning installation</td>\n",
       "      <td>README.rst</td>\n",
       "      <td>gym\\n******\\n\\n**OpenAI Gym is a toolkit for d...</td>\n",
       "      <td>gym\\n******\\n\\n**OpenAI Gym is a toolkit for d...</td>\n",
       "      <td>@@ -37,7 +37,7 @@ You can perform a minimal in...</td>\n",
       "      <td>update gym.rb</td>\n",
       "      <td>fix typo in cloning installation</td>\n",
       "    </tr>\n",
       "    <tr>\n",
       "      <th>3</th>\n",
       "      <td>fa61141a57676b11cab3b0df135fa6898b97abac</td>\n",
       "      <td>Raise a better error for a missing pyglet</td>\n",
       "      <td>rendering.py</td>\n",
       "      <td>\"\"\"\\n2D rendering framework\\n\"\"\"\\nfrom __futur...</td>\n",
       "      <td>\"\"\"\\n2D rendering framework\\n\"\"\"\\nfrom __futur...</td>\n",
       "      <td>@@ -10,7 +10,13 @@ if \"Apple\" in sys.version:\\...</td>\n",
       "      <td>add note about installing gym dependencies</td>\n",
       "      <td>Raise a better error for a missing pyglet</td>\n",
       "    </tr>\n",
       "    <tr>\n",
       "      <th>4</th>\n",
       "      <td>ed2c3a1fdc36bc60cbe34f94efbb213e942755bb</td>\n",
       "      <td>README: Fix package name</td>\n",
       "      <td>README.rst</td>\n",
       "      <td>gym\\n******\\n\\n**OpenAI Gym is a toolkit for d...</td>\n",
       "      <td>gym\\n******\\n\\n**OpenAI Gym is a toolkit for d...</td>\n",
       "      <td>@@ -74,7 +74,7 @@ On Ubuntu 14.04:\\n \\n .. cod...</td>\n",
       "      <td>add missing space in list of system names</td>\n",
       "      <td>README: Fix package name</td>\n",
       "    </tr>\n",
       "  </tbody>\n",
       "</table>\n",
       "</div>"
      ],
      "text/plain": [
       "                                          #  \\\n",
       "0  c02a213f8ea8d8873e8045a089fae4ac2637b8b4   \n",
       "1  1c816c9fe4c6cf3986890f0a19142bb3c3b08a8f   \n",
       "2  2c0b6cfbad8cd8a8067a50c3e15279e4d699d0bd   \n",
       "3  fa61141a57676b11cab3b0df135fa6898b97abac   \n",
       "4  ed2c3a1fdc36bc60cbe34f94efbb213e942755bb   \n",
       "\n",
       "                                             Message      Filename  \\\n",
       "0  scoring.py: Handle entries without initial_res...    scoring.py   \n",
       "1  scoring.py: Handle entries without initial_res...    scoring.py   \n",
       "2                   fix typo in cloning installation    README.rst   \n",
       "3          Raise a better error for a missing pyglet  rendering.py   \n",
       "4                           README: Fix package name    README.rst   \n",
       "\n",
       "                                Source Code (before)  \\\n",
       "0  \"\"\"This is the actual code we use to score peo...   \n",
       "1  \"\"\"This is the actual code we use to score peo...   \n",
       "2  gym\\n******\\n\\n**OpenAI Gym is a toolkit for d...   \n",
       "3  \"\"\"\\n2D rendering framework\\n\"\"\"\\nfrom __futur...   \n",
       "4  gym\\n******\\n\\n**OpenAI Gym is a toolkit for d...   \n",
       "\n",
       "                               Source Code (current)  \\\n",
       "0  \"\"\"This is the actual code we use to score peo...   \n",
       "1  \"\"\"This is the actual code we use to score peo...   \n",
       "2  gym\\n******\\n\\n**OpenAI Gym is a toolkit for d...   \n",
       "3  \"\"\"\\n2D rendering framework\\n\"\"\"\\nfrom __futur...   \n",
       "4  gym\\n******\\n\\n**OpenAI Gym is a toolkit for d...   \n",
       "\n",
       "                                                Diff  \\\n",
       "0  @@ -17,7 +17,8 @@ def score_from_remote(url):\\...   \n",
       "1  @@ -17,7 +17,8 @@ def score_from_remote(url):\\...   \n",
       "2  @@ -37,7 +37,7 @@ You can perform a minimal in...   \n",
       "3  @@ -10,7 +10,13 @@ if \"Apple\" in sys.version:\\...   \n",
       "4  @@ -74,7 +74,7 @@ On Ubuntu 14.04:\\n \\n .. cod...   \n",
       "\n",
       "                               Fix Type (LLM)  \\\n",
       "0                fix bug in score_from_remote   \n",
       "1                fix bug in score_from_remote   \n",
       "2                               update gym.rb   \n",
       "3  add note about installing gym dependencies   \n",
       "4   add missing space in list of system names   \n",
       "\n",
       "                                   Rectified Message  \n",
       "0  scoring.py: Handle entries without initial_res...  \n",
       "1  scoring.py: Handle entries without initial_res...  \n",
       "2                   fix typo in cloning installation  \n",
       "3          Raise a better error for a missing pyglet  \n",
       "4                           README: Fix package name  "
      ]
     },
     "execution_count": 13,
     "metadata": {},
     "output_type": "execute_result"
    }
   ],
   "source": [
    "pd.read_csv(DIFF_CSV).head()"
   ]
  },
  {
   "cell_type": "code",
   "execution_count": null,
   "metadata": {
    "execution": {
     "iopub.execute_input": "2025-09-04T08:04:54.378825Z",
     "iopub.status.busy": "2025-09-04T08:04:54.378441Z",
     "iopub.status.idle": "2025-09-04T08:04:54.387927Z",
     "shell.execute_reply": "2025-09-04T08:04:54.386872Z",
     "shell.execute_reply.started": "2025-09-04T08:04:54.378789Z"
    },
    "trusted": true
   },
   "outputs": [
    {
     "name": "stdout",
     "output_type": "stream",
     "text": [
      "Total files analyzed: 454\n",
      "RQ1: Developer precise messages: 288 (63.44%)\n",
      "RQ2: LLM precise messages: 18 (3.96%)\n",
      "RQ3: Rectified precise messages: 148 (32.60%)\n"
     ]
    }
   ],
   "source": [
    "# Compute hit rates for Dev, LLM, Rectified\n",
    "total=dev_keep+llm_keep+rect_keep\n",
    "rq1 = (dev_keep/total*100) if total else 0\n",
    "rq2 = (llm_keep/total*100) if total else 0\n",
    "rq3 = (rect_keep/total*100) if total else 0\n",
    "\n",
    "print(\"Total files analyzed:\",total)\n",
    "print(f\"RQ1: Developer precise messages: {dev_keep} ({rq1:.2f}%)\")\n",
    "print(f\"RQ2: LLM precise messages: {llm_keep} ({rq2:.2f}%)\")\n",
    "print(f\"RQ3: Rectified precise messages: {rect_keep} ({rq3:.2f}%)\")"
   ]
  },
  {
   "cell_type": "code",
   "execution_count": null,
   "metadata": {
    "execution": {
     "iopub.execute_input": "2025-09-04T08:04:54.389630Z",
     "iopub.status.busy": "2025-09-04T08:04:54.389246Z",
     "iopub.status.idle": "2025-09-04T08:04:54.688160Z",
     "shell.execute_reply": "2025-09-04T08:04:54.687106Z",
     "shell.execute_reply.started": "2025-09-04T08:04:54.389597Z"
    },
    "trusted": true
   },
   "outputs": [
    {
     "data": {
      "image/png": "[encoded data removed]",
      "text/plain": [
       "<Figure size 640x480 with 1 Axes>"
      ]
     },
     "metadata": {},
     "output_type": "display_data"
    }
   ],
   "source": [
    "# Plot counts\n",
    "plt.bar([\"Developer\",\"LLM\",\"Rectifier\"],[dev_keep,llm_keep,rect_keep],\n",
    "        color=[COLORS[\"dev\"],COLORS[\"llm\"],COLORS[\"rect\"]],edgecolor=\"black\")\n",
    "plt.title(\"Message Precision (RQ1–RQ3)\")\n",
    "plt.ylabel(\"Count\")\n",
    "plt.show()"
   ]
  }
 ],
 "metadata": {
  "kaggle": {
   "accelerator": "none",
   "dataSources": [],
   "dockerImageVersionId": 31089,
   "isGpuEnabled": false,
   "isInternetEnabled": true,
   "language": "python",
   "sourceType": "notebook"
  },
  "kernelspec": {
   "display_name": "Python 3",
   "language": "python",
   "name": "python3"
  },
  "language_info": {
   "codemirror_mode": {
    "name": "ipython",
    "version": 3
   },
   "file_extension": ".py",
   "mimetype": "text/x-python",
   "name": "python",
   "nbconvert_exporter": "python",
   "pygments_lexer": "ipython3",
   "version": "3.11.13"
  }
 },
 "nbformat": 4,
 "nbformat_minor": 4
}
